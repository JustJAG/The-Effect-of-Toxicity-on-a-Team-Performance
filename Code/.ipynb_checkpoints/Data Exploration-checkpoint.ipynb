{
 "cells": [
  {
   "cell_type": "markdown",
   "id": "27d27069-fc01-406f-89f4-68fd4ac8843e",
   "metadata": {
    "tags": []
   },
   "source": [
    "# Outline\n",
    "\n",
    "This notebook provides a \n",
    "* general idea of a paper,\n",
    "* description of a game\n",
    "* analysis of the data available\n"
   ]
  },
  {
   "cell_type": "markdown",
   "id": "1bf11c33-758b-4ba2-8c3c-dc25c2beb04a",
   "metadata": {},
   "source": [
    "## General idea of a paper\n",
    "I want to understand the effect of certain sentiments in communication on the performance of a team. This is important because people are social creatures and spend a significant amount of time performing a job in teams. In the case of jobs, a team is a group of colleagues and performance is their KPIs. \n",
    "\n",
    "However, it is difficult to get the data on all the communication between team members and quantify the performance. That is why I am going to focus on the Dota 2, a multiplayer online battle arena (MOBA) video game. In this game, people communicate and accomplish tasks in a team, which is similar to the work environment. Due to the recent pandemic, remote jobs are getting popular, which makes work in teams look more similar to the players of Dota 2. Workers shift to using chats instead of verbal communication.\n"
   ]
  },
  {
   "cell_type": "markdown",
   "id": "162bc6de-04f7-41a8-bebc-2c7103cc2480",
   "metadata": {},
   "source": [
    "## Description of a game\n",
    "Dota 2 is played in matches between two teams of five players, with each team occupying and defending their own separate base on the map. Each of the ten players independently controls a powerful character known as a \"hero\" that all have unique abilities and differing styles of play. During a match players collect experience points (XP) and buy items (with gold) for their heroes to successfully defeat the opposing team's heroes in player versus player combat. A team wins by being the first to destroy the other team's \"Ancient\", a large structure located within their base. Ancients are located in the left bottom and right upper corners. \n",
    "\n",
    "<img src=https://i.imgur.com/iqE4fxr.png width=\"700\">\n",
    "\n",
    "To destroy the ancient players need XP to level up a hero and gold to buy inventory. For any kill, a hero gains XP and gold. There are three types of characters a player can kill: \n",
    "1. creeps, \n",
    "2. neutrals, \n",
    "3. other heroes. \n",
    "\n",
    "Creeps are non-player characters (NPC) that regularly march from each team's Ancient towards the other Ancient. Creeps march only by lanes (top, mid, bottom) and they are considered to be pawns of each team. Usually heroes help friendly creeps to kill the enemy creeps. \n",
    "\n",
    "Neutral creeps are NPCs that appear in the jungle. Unlike creeps, they are not playing for any team (hence, the name neutral) and don't move unless get attacked. Heroes can \"switch\" from lanes to the jungle and kill neutral creeps.\n",
    "\n",
    "Heroes are human players. There is a total of 10 heroes (10 players), 5 for each team. Sometimes, when several heroes from the opposing teams meet they can decide to fight and get gold and XP. If a hero dies, it appears \n",
    "\n",
    "Overall, players are either killing creeps on lanes, killing neutrals in jungle, or killing heroes. This strategy lasts until one of the team gains enough gold and XP to destroy the ancient."
   ]
  },
  {
   "cell_type": "markdown",
   "id": "66ff59f0-8cc2-4e65-9ea1-9bb5dba29dbe",
   "metadata": {},
   "source": [
    "## Analysis of the data available"
   ]
  },
  {
   "cell_type": "code",
   "execution_count": 3,
   "id": "f3541829-bc0b-49c8-a041-2705ba511059",
   "metadata": {},
   "outputs": [],
   "source": [
    "import pandas as pd\n",
    "import numpy as np"
   ]
  },
  {
   "cell_type": "code",
   "execution_count": 9,
   "id": "70135915-097e-4520-bf66-e917a575c4a6",
   "metadata": {},
   "outputs": [],
   "source": [
    "# teamfights data for each player \n",
    "tf_player = pd.read_csv('../Data/Original/teamfights_players.csv')\n",
    "\n",
    "# teamfights timings\n",
    "tf = pd.read_csv('../Data/Original/teamfights.csv')\n",
    "\n",
    "# player info for each minute\n",
    "player_time = pd.read_csv('../Data/Original/player_time.csv')\n",
    "\n",
    "# chat data\n",
    "chat = pd.read_csv('../Data/Original/chat.csv')\n",
    "\n",
    "# player ratings\n",
    "player_ratings = pd.read_csv('../Data/Original/player_ratings.csv')\n",
    "\n",
    "# player info for the match\n",
    "player = pd.read_csv('../Data/Original/players.csv')\n",
    "\n",
    "# match information\n",
    "match = pd.read_csv('../Data/Original/match.csv')\n",
    "\n",
    "# account id info  \n",
    "match_outcomes = pd.read_csv('../Data/Original/match_outcomes.csv')"
   ]
  },
  {
   "cell_type": "code",
   "execution_count": 11,
   "id": "c046f4c5-7237-41d1-8f24-3bc81650ff31",
   "metadata": {},
   "outputs": [
    {
     "data": {
      "text/html": [
       "<div>\n",
       "<style scoped>\n",
       "    .dataframe tbody tr th:only-of-type {\n",
       "        vertical-align: middle;\n",
       "    }\n",
       "\n",
       "    .dataframe tbody tr th {\n",
       "        vertical-align: top;\n",
       "    }\n",
       "\n",
       "    .dataframe thead th {\n",
       "        text-align: right;\n",
       "    }\n",
       "</style>\n",
       "<table border=\"1\" class=\"dataframe\">\n",
       "  <thead>\n",
       "    <tr style=\"text-align: right;\">\n",
       "      <th></th>\n",
       "      <th>match_id</th>\n",
       "      <th>start_time</th>\n",
       "      <th>duration</th>\n",
       "      <th>tower_status_radiant</th>\n",
       "      <th>tower_status_dire</th>\n",
       "      <th>barracks_status_dire</th>\n",
       "      <th>barracks_status_radiant</th>\n",
       "      <th>first_blood_time</th>\n",
       "      <th>game_mode</th>\n",
       "      <th>radiant_win</th>\n",
       "      <th>negative_votes</th>\n",
       "      <th>positive_votes</th>\n",
       "      <th>cluster</th>\n",
       "    </tr>\n",
       "  </thead>\n",
       "  <tbody>\n",
       "    <tr>\n",
       "      <th>0</th>\n",
       "      <td>0</td>\n",
       "      <td>1446750112</td>\n",
       "      <td>2375</td>\n",
       "      <td>1982</td>\n",
       "      <td>4</td>\n",
       "      <td>3</td>\n",
       "      <td>63</td>\n",
       "      <td>1</td>\n",
       "      <td>22</td>\n",
       "      <td>True</td>\n",
       "      <td>0</td>\n",
       "      <td>1</td>\n",
       "      <td>155</td>\n",
       "    </tr>\n",
       "    <tr>\n",
       "      <th>1</th>\n",
       "      <td>1</td>\n",
       "      <td>1446753078</td>\n",
       "      <td>2582</td>\n",
       "      <td>0</td>\n",
       "      <td>1846</td>\n",
       "      <td>63</td>\n",
       "      <td>0</td>\n",
       "      <td>221</td>\n",
       "      <td>22</td>\n",
       "      <td>False</td>\n",
       "      <td>0</td>\n",
       "      <td>2</td>\n",
       "      <td>154</td>\n",
       "    </tr>\n",
       "    <tr>\n",
       "      <th>2</th>\n",
       "      <td>2</td>\n",
       "      <td>1446764586</td>\n",
       "      <td>2716</td>\n",
       "      <td>256</td>\n",
       "      <td>1972</td>\n",
       "      <td>63</td>\n",
       "      <td>48</td>\n",
       "      <td>190</td>\n",
       "      <td>22</td>\n",
       "      <td>False</td>\n",
       "      <td>0</td>\n",
       "      <td>0</td>\n",
       "      <td>132</td>\n",
       "    </tr>\n",
       "    <tr>\n",
       "      <th>3</th>\n",
       "      <td>3</td>\n",
       "      <td>1446765723</td>\n",
       "      <td>3085</td>\n",
       "      <td>4</td>\n",
       "      <td>1924</td>\n",
       "      <td>51</td>\n",
       "      <td>3</td>\n",
       "      <td>40</td>\n",
       "      <td>22</td>\n",
       "      <td>False</td>\n",
       "      <td>0</td>\n",
       "      <td>0</td>\n",
       "      <td>191</td>\n",
       "    </tr>\n",
       "    <tr>\n",
       "      <th>4</th>\n",
       "      <td>4</td>\n",
       "      <td>1446796385</td>\n",
       "      <td>1887</td>\n",
       "      <td>2047</td>\n",
       "      <td>0</td>\n",
       "      <td>0</td>\n",
       "      <td>63</td>\n",
       "      <td>58</td>\n",
       "      <td>22</td>\n",
       "      <td>True</td>\n",
       "      <td>0</td>\n",
       "      <td>0</td>\n",
       "      <td>156</td>\n",
       "    </tr>\n",
       "  </tbody>\n",
       "</table>\n",
       "</div>"
      ],
      "text/plain": [
       "   match_id  start_time  duration  tower_status_radiant  tower_status_dire  \\\n",
       "0         0  1446750112      2375                  1982                  4   \n",
       "1         1  1446753078      2582                     0               1846   \n",
       "2         2  1446764586      2716                   256               1972   \n",
       "3         3  1446765723      3085                     4               1924   \n",
       "4         4  1446796385      1887                  2047                  0   \n",
       "\n",
       "   barracks_status_dire  barracks_status_radiant  first_blood_time  game_mode  \\\n",
       "0                     3                       63                 1         22   \n",
       "1                    63                        0               221         22   \n",
       "2                    63                       48               190         22   \n",
       "3                    51                        3                40         22   \n",
       "4                     0                       63                58         22   \n",
       "\n",
       "   radiant_win  negative_votes  positive_votes  cluster  \n",
       "0         True               0               1      155  \n",
       "1        False               0               2      154  \n",
       "2        False               0               0      132  \n",
       "3        False               0               0      191  \n",
       "4         True               0               0      156  "
      ]
     },
     "execution_count": 11,
     "metadata": {},
     "output_type": "execute_result"
    }
   ],
   "source": [
    "match.head()"
   ]
  },
  {
   "cell_type": "markdown",
   "id": "f15917a4-f8de-48f9-be7d-6da1a871413d",
   "metadata": {},
   "source": [
    "Let's depict the histogram for the duration of matches "
   ]
  },
  {
   "cell_type": "code",
   "execution_count": 12,
   "id": "aba679ba-8618-4b16-8a15-ad008ad7ca52",
   "metadata": {},
   "outputs": [],
   "source": [
    "match['duration_min'] = match['duration']/60 "
   ]
  },
  {
   "cell_type": "code",
   "execution_count": 20,
   "id": "852fda33-0127-498d-89fa-272738257797",
   "metadata": {},
   "outputs": [
    {
     "data": {
      "image/png": "[encoded data removed]",
      "text/plain": [
       "<Figure size 504x360 with 1 Axes>"
      ]
     },
     "metadata": {},
     "output_type": "display_data"
    }
   ],
   "source": [
    "import seaborn as sns\n",
    "import matplotlib.pyplot as plt\n",
    "\n",
    "sns.set(rc={\"figure.figsize\":(7, 5)})\n",
    "fig, ax = plt.subplots()\n",
    "sns.histplot(match.duration_min).set_title('Duration of the matches in minutes')\n",
    "ax.set_xlim(0,100)\n",
    "#ax.set_xticks(range(0,100))\n",
    "plt.show()"
   ]
  },
  {
   "cell_type": "markdown",
   "id": "220f08f2-4fb5-4bd5-8e20-2bc480c6dca6",
   "metadata": {},
   "source": [
    "As we can see, the duration of a match ranges from 30 to 50 minutes "
   ]
  },
  {
   "cell_type": "code",
   "execution_count": 4,
   "id": "91173b4b-6ba9-409a-bc13-b56631a92e38",
   "metadata": {},
   "outputs": [],
   "source": [
    "# number of games under analysis\n",
    "n_observations = 100 "
   ]
  },
  {
   "cell_type": "markdown",
   "id": "537d94e8-2005-40c5-bcd4-b9bb707bf061",
   "metadata": {
    "tags": []
   },
   "source": [
    "### Add a start column to tf_player dataframe"
   ]
  },
  {
   "cell_type": "code",
   "execution_count": 5,
   "id": "e4bee03a-9970-4983-8261-2b75931734b1",
   "metadata": {},
   "outputs": [],
   "source": [
    "# create empty \n",
    "tf_player[\"start\"] = \"\"\n",
    "\n",
    "# event_times for games\n",
    "event_times = tf.start"
   ]
  },
  {
   "cell_type": "code",
   "execution_count": 6,
   "id": "b203b405-46c2-4c09-99f1-61d2994aa5b5",
   "metadata": {},
   "outputs": [],
   "source": [
    "def n_times(v,n):\n",
    "    for i in range(n):\n",
    "        yield v\n",
    "\n",
    "event_times = [i for j in event_times for i in n_times(j,10)]"
   ]
  },
  {
   "cell_type": "code",
   "execution_count": 7,
   "id": "ff0e63bf-9582-4390-ad98-9ec97250dacb",
   "metadata": {},
   "outputs": [],
   "source": [
    "tf_player[\"start\"] = np.array(event_times)"
   ]
  },
  {
   "cell_type": "code",
   "execution_count": 8,
   "id": "d7faa955-4d5f-41a6-b706-e8c25ae50195",
   "metadata": {},
   "outputs": [],
   "source": [
    "tf_player['radiant'] = np.where(tf_player['player_slot']<= 5, 1, 0)"
   ]
  },
  {
   "cell_type": "markdown",
   "id": "82732c3d-1345-4f37-bb52-2b9ef889a419",
   "metadata": {},
   "source": [
    "### Get sum of gold by each team"
   ]
  },
  {
   "cell_type": "code",
   "execution_count": 9,
   "id": "03a68ead-4458-4e3d-b2e0-3dd45ea3b1f5",
   "metadata": {},
   "outputs": [],
   "source": [
    "x = tf_player.groupby(['match_id', 'start', 'radiant']).sum()['gold_delta']"
   ]
  },
  {
   "cell_type": "code",
   "execution_count": 10,
   "id": "d3788170-bf1d-448a-accb-01abac479f8a",
   "metadata": {},
   "outputs": [],
   "source": [
    "radiant_gold = x.loc[:,:,1]\n",
    "dire_gold = x.loc[:,:,0]"
   ]
  },
  {
   "cell_type": "code",
   "execution_count": 11,
   "id": "f4429541-f207-48ea-9087-5e6762c772c6",
   "metadata": {},
   "outputs": [],
   "source": [
    "tf['radiant_gold'] = np.array(radiant_gold)\n",
    "tf['dire_gold'] = np.array(dire_gold)"
   ]
  },
  {
   "cell_type": "code",
   "execution_count": 12,
   "id": "db6720d2-1e90-40c5-9b79-d00aa8a107a4",
   "metadata": {},
   "outputs": [],
   "source": [
    "tf['delta_gold'] = tf['radiant_gold'] - tf['dire_gold']"
   ]
  },
  {
   "cell_type": "code",
   "execution_count": 13,
   "id": "1c18aae0-49f0-40fd-a117-267b802366d3",
   "metadata": {},
   "outputs": [
    {
     "data": {
      "text/html": [
       "<div>\n",
       "<style scoped>\n",
       "    .dataframe tbody tr th:only-of-type {\n",
       "        vertical-align: middle;\n",
       "    }\n",
       "\n",
       "    .dataframe tbody tr th {\n",
       "        vertical-align: top;\n",
       "    }\n",
       "\n",
       "    .dataframe thead th {\n",
       "        text-align: right;\n",
       "    }\n",
       "</style>\n",
       "<table border=\"1\" class=\"dataframe\">\n",
       "  <thead>\n",
       "    <tr style=\"text-align: right;\">\n",
       "      <th></th>\n",
       "      <th>match_id</th>\n",
       "      <th>start</th>\n",
       "      <th>end</th>\n",
       "      <th>last_death</th>\n",
       "      <th>deaths</th>\n",
       "      <th>radiant_gold</th>\n",
       "      <th>dire_gold</th>\n",
       "      <th>delta_gold</th>\n",
       "    </tr>\n",
       "  </thead>\n",
       "  <tbody>\n",
       "    <tr>\n",
       "      <th>0</th>\n",
       "      <td>0</td>\n",
       "      <td>220</td>\n",
       "      <td>252</td>\n",
       "      <td>237</td>\n",
       "      <td>3</td>\n",
       "      <td>632</td>\n",
       "      <td>790</td>\n",
       "      <td>-158</td>\n",
       "    </tr>\n",
       "    <tr>\n",
       "      <th>1</th>\n",
       "      <td>0</td>\n",
       "      <td>429</td>\n",
       "      <td>475</td>\n",
       "      <td>460</td>\n",
       "      <td>3</td>\n",
       "      <td>1929</td>\n",
       "      <td>345</td>\n",
       "      <td>1584</td>\n",
       "    </tr>\n",
       "    <tr>\n",
       "      <th>2</th>\n",
       "      <td>0</td>\n",
       "      <td>900</td>\n",
       "      <td>936</td>\n",
       "      <td>921</td>\n",
       "      <td>3</td>\n",
       "      <td>3145</td>\n",
       "      <td>-506</td>\n",
       "      <td>3651</td>\n",
       "    </tr>\n",
       "    <tr>\n",
       "      <th>3</th>\n",
       "      <td>0</td>\n",
       "      <td>1284</td>\n",
       "      <td>1328</td>\n",
       "      <td>1313</td>\n",
       "      <td>3</td>\n",
       "      <td>1872</td>\n",
       "      <td>-112</td>\n",
       "      <td>1984</td>\n",
       "    </tr>\n",
       "    <tr>\n",
       "      <th>4</th>\n",
       "      <td>0</td>\n",
       "      <td>1614</td>\n",
       "      <td>1666</td>\n",
       "      <td>1651</td>\n",
       "      <td>5</td>\n",
       "      <td>1768</td>\n",
       "      <td>2164</td>\n",
       "      <td>-396</td>\n",
       "    </tr>\n",
       "  </tbody>\n",
       "</table>\n",
       "</div>"
      ],
      "text/plain": [
       "   match_id  start   end  last_death  deaths  radiant_gold  dire_gold  \\\n",
       "0         0    220   252         237       3           632        790   \n",
       "1         0    429   475         460       3          1929        345   \n",
       "2         0    900   936         921       3          3145       -506   \n",
       "3         0   1284  1328        1313       3          1872       -112   \n",
       "4         0   1614  1666        1651       5          1768       2164   \n",
       "\n",
       "   delta_gold  \n",
       "0        -158  \n",
       "1        1584  \n",
       "2        3651  \n",
       "3        1984  \n",
       "4        -396  "
      ]
     },
     "execution_count": 13,
     "metadata": {},
     "output_type": "execute_result"
    }
   ],
   "source": [
    "tf.head()"
   ]
  },
  {
   "cell_type": "markdown",
   "id": "d309a4cb-3bfe-41cc-9e11-6a011167e704",
   "metadata": {
    "tags": []
   },
   "source": [
    "### Add player in-game characteristics to the tf"
   ]
  },
  {
   "cell_type": "code",
   "execution_count": 14,
   "id": "9280b384-80c9-404e-971d-c71c2855856d",
   "metadata": {},
   "outputs": [],
   "source": [
    "# round start time by minute\n",
    "tf['times'] = (tf.start//60)*60\n",
    "tf['times']= np.where(tf['times']< 0, 0, tf['times'])"
   ]
  },
  {
   "cell_type": "code",
   "execution_count": 15,
   "id": "f9a4a3f2-37e4-4de5-99a9-69401efecd66",
   "metadata": {},
   "outputs": [],
   "source": [
    "tf2 = pd.merge(tf, player_time,  how='left', left_on=['match_id','times'], right_on = ['match_id','times'])"
   ]
  },
  {
   "cell_type": "code",
   "execution_count": 16,
   "id": "69232135-e8bd-4598-8191-8ffb4fb6859f",
   "metadata": {},
   "outputs": [
    {
     "data": {
      "text/html": [
       "<div>\n",
       "<style scoped>\n",
       "    .dataframe tbody tr th:only-of-type {\n",
       "        vertical-align: middle;\n",
       "    }\n",
       "\n",
       "    .dataframe tbody tr th {\n",
       "        vertical-align: top;\n",
       "    }\n",
       "\n",
       "    .dataframe thead th {\n",
       "        text-align: right;\n",
       "    }\n",
       "</style>\n",
       "<table border=\"1\" class=\"dataframe\">\n",
       "  <thead>\n",
       "    <tr style=\"text-align: right;\">\n",
       "      <th></th>\n",
       "      <th>match_id</th>\n",
       "      <th>start</th>\n",
       "      <th>end</th>\n",
       "      <th>last_death</th>\n",
       "      <th>deaths</th>\n",
       "      <th>radiant_gold</th>\n",
       "      <th>dire_gold</th>\n",
       "      <th>delta_gold</th>\n",
       "      <th>times</th>\n",
       "      <th>gold_t_0</th>\n",
       "      <th>...</th>\n",
       "      <th>xp_t_129</th>\n",
       "      <th>gold_t_130</th>\n",
       "      <th>lh_t_130</th>\n",
       "      <th>xp_t_130</th>\n",
       "      <th>gold_t_131</th>\n",
       "      <th>lh_t_131</th>\n",
       "      <th>xp_t_131</th>\n",
       "      <th>gold_t_132</th>\n",
       "      <th>lh_t_132</th>\n",
       "      <th>xp_t_132</th>\n",
       "    </tr>\n",
       "  </thead>\n",
       "  <tbody>\n",
       "    <tr>\n",
       "      <th>0</th>\n",
       "      <td>0</td>\n",
       "      <td>220</td>\n",
       "      <td>252</td>\n",
       "      <td>237</td>\n",
       "      <td>3</td>\n",
       "      <td>632</td>\n",
       "      <td>790</td>\n",
       "      <td>-158</td>\n",
       "      <td>180</td>\n",
       "      <td>683</td>\n",
       "      <td>...</td>\n",
       "      <td>842</td>\n",
       "      <td>958</td>\n",
       "      <td>16</td>\n",
       "      <td>1135</td>\n",
       "      <td>300</td>\n",
       "      <td>0</td>\n",
       "      <td>210</td>\n",
       "      <td>1290</td>\n",
       "      <td>8</td>\n",
       "      <td>527</td>\n",
       "    </tr>\n",
       "    <tr>\n",
       "      <th>1</th>\n",
       "      <td>0</td>\n",
       "      <td>429</td>\n",
       "      <td>475</td>\n",
       "      <td>460</td>\n",
       "      <td>3</td>\n",
       "      <td>1929</td>\n",
       "      <td>345</td>\n",
       "      <td>1584</td>\n",
       "      <td>420</td>\n",
       "      <td>1257</td>\n",
       "      <td>...</td>\n",
       "      <td>2033</td>\n",
       "      <td>2652</td>\n",
       "      <td>47</td>\n",
       "      <td>3111</td>\n",
       "      <td>700</td>\n",
       "      <td>0</td>\n",
       "      <td>241</td>\n",
       "      <td>3033</td>\n",
       "      <td>28</td>\n",
       "      <td>1329</td>\n",
       "    </tr>\n",
       "    <tr>\n",
       "      <th>2</th>\n",
       "      <td>0</td>\n",
       "      <td>900</td>\n",
       "      <td>936</td>\n",
       "      <td>921</td>\n",
       "      <td>3</td>\n",
       "      <td>3145</td>\n",
       "      <td>-506</td>\n",
       "      <td>3651</td>\n",
       "      <td>900</td>\n",
       "      <td>3324</td>\n",
       "      <td>...</td>\n",
       "      <td>4472</td>\n",
       "      <td>6534</td>\n",
       "      <td>114</td>\n",
       "      <td>7788</td>\n",
       "      <td>1767</td>\n",
       "      <td>6</td>\n",
       "      <td>1486</td>\n",
       "      <td>6470</td>\n",
       "      <td>60</td>\n",
       "      <td>3822</td>\n",
       "    </tr>\n",
       "    <tr>\n",
       "      <th>3</th>\n",
       "      <td>0</td>\n",
       "      <td>1284</td>\n",
       "      <td>1328</td>\n",
       "      <td>1313</td>\n",
       "      <td>3</td>\n",
       "      <td>1872</td>\n",
       "      <td>-112</td>\n",
       "      <td>1984</td>\n",
       "      <td>1260</td>\n",
       "      <td>5019</td>\n",
       "      <td>...</td>\n",
       "      <td>5583</td>\n",
       "      <td>8777</td>\n",
       "      <td>147</td>\n",
       "      <td>9713</td>\n",
       "      <td>2606</td>\n",
       "      <td>8</td>\n",
       "      <td>1929</td>\n",
       "      <td>9637</td>\n",
       "      <td>87</td>\n",
       "      <td>6372</td>\n",
       "    </tr>\n",
       "    <tr>\n",
       "      <th>4</th>\n",
       "      <td>0</td>\n",
       "      <td>1614</td>\n",
       "      <td>1666</td>\n",
       "      <td>1651</td>\n",
       "      <td>5</td>\n",
       "      <td>1768</td>\n",
       "      <td>2164</td>\n",
       "      <td>-396</td>\n",
       "      <td>1560</td>\n",
       "      <td>6394</td>\n",
       "      <td>...</td>\n",
       "      <td>6892</td>\n",
       "      <td>11091</td>\n",
       "      <td>171</td>\n",
       "      <td>12333</td>\n",
       "      <td>3678</td>\n",
       "      <td>15</td>\n",
       "      <td>3392</td>\n",
       "      <td>12017</td>\n",
       "      <td>108</td>\n",
       "      <td>8150</td>\n",
       "    </tr>\n",
       "  </tbody>\n",
       "</table>\n",
       "<p>5 rows × 39 columns</p>\n",
       "</div>"
      ],
      "text/plain": [
       "   match_id  start   end  last_death  deaths  radiant_gold  dire_gold  \\\n",
       "0         0    220   252         237       3           632        790   \n",
       "1         0    429   475         460       3          1929        345   \n",
       "2         0    900   936         921       3          3145       -506   \n",
       "3         0   1284  1328        1313       3          1872       -112   \n",
       "4         0   1614  1666        1651       5          1768       2164   \n",
       "\n",
       "   delta_gold  times  gold_t_0  ...  xp_t_129  gold_t_130  lh_t_130  xp_t_130  \\\n",
       "0        -158    180       683  ...       842         958        16      1135   \n",
       "1        1584    420      1257  ...      2033        2652        47      3111   \n",
       "2        3651    900      3324  ...      4472        6534       114      7788   \n",
       "3        1984   1260      5019  ...      5583        8777       147      9713   \n",
       "4        -396   1560      6394  ...      6892       11091       171     12333   \n",
       "\n",
       "   gold_t_131  lh_t_131  xp_t_131  gold_t_132  lh_t_132  xp_t_132  \n",
       "0         300         0       210        1290         8       527  \n",
       "1         700         0       241        3033        28      1329  \n",
       "2        1767         6      1486        6470        60      3822  \n",
       "3        2606         8      1929        9637        87      6372  \n",
       "4        3678        15      3392       12017       108      8150  \n",
       "\n",
       "[5 rows x 39 columns]"
      ]
     },
     "execution_count": 16,
     "metadata": {},
     "output_type": "execute_result"
    }
   ],
   "source": [
    "tf2.head()"
   ]
  },
  {
   "cell_type": "markdown",
   "id": "0d27f79d-06c7-4d74-a88a-fb02c3d08598",
   "metadata": {},
   "source": [
    "### Add chat to tf2"
   ]
  },
  {
   "cell_type": "code",
   "execution_count": 17,
   "id": "31d75e75-566d-4afa-9ac5-84996475d0d1",
   "metadata": {},
   "outputs": [],
   "source": [
    "# change slot accordingly\n",
    "chat.loc[chat['slot'] ==5 , 'slot'] = 128\n",
    "chat.loc[chat['slot'] ==6 , 'slot'] = 129\n",
    "chat.loc[chat['slot'] ==7 , 'slot'] = 130\n",
    "chat.loc[chat['slot'] ==8 , 'slot'] = 131\n",
    "chat.loc[chat['slot'] ==9 , 'slot'] = 132"
   ]
  },
  {
   "cell_type": "code",
   "execution_count": 18,
   "id": "e267cc86-725c-4045-9275-79ca5fa57505",
   "metadata": {
    "tags": []
   },
   "outputs": [
    {
     "ename": "KeyboardInterrupt",
     "evalue": "",
     "output_type": "error",
     "traceback": [
      "\u001b[1;31m---------------------------------------------------------------------------\u001b[0m",
      "\u001b[1;31mKeyboardInterrupt\u001b[0m                         Traceback (most recent call last)",
      "\u001b[1;32m~\\AppData\\Local\\Temp/ipykernel_25408/592208242.py\u001b[0m in \u001b[0;36m<module>\u001b[1;34m\u001b[0m\n\u001b[0;32m      2\u001b[0m     \u001b[0mstart\u001b[0m \u001b[1;33m=\u001b[0m \u001b[0mtf2\u001b[0m\u001b[1;33m[\u001b[0m\u001b[0mtf2\u001b[0m\u001b[1;33m.\u001b[0m\u001b[0mmatch_id\u001b[0m \u001b[1;33m==\u001b[0m \u001b[0mi\u001b[0m\u001b[1;33m]\u001b[0m\u001b[1;33m[\u001b[0m\u001b[1;34m'start'\u001b[0m\u001b[1;33m]\u001b[0m\u001b[1;33m.\u001b[0m\u001b[0mto_list\u001b[0m\u001b[1;33m(\u001b[0m\u001b[1;33m)\u001b[0m\u001b[1;33m\u001b[0m\u001b[1;33m\u001b[0m\u001b[0m\n\u001b[0;32m      3\u001b[0m     \u001b[1;32mfor\u001b[0m \u001b[0mk\u001b[0m \u001b[1;32min\u001b[0m \u001b[0mrange\u001b[0m\u001b[1;33m(\u001b[0m\u001b[0mlen\u001b[0m\u001b[1;33m(\u001b[0m\u001b[0mstart\u001b[0m\u001b[1;33m)\u001b[0m\u001b[1;33m)\u001b[0m\u001b[1;33m:\u001b[0m\u001b[1;33m\u001b[0m\u001b[1;33m\u001b[0m\u001b[0m\n\u001b[1;32m----> 4\u001b[1;33m         \u001b[0mchat\u001b[0m\u001b[1;33m.\u001b[0m\u001b[0mloc\u001b[0m\u001b[1;33m[\u001b[0m\u001b[1;33m(\u001b[0m\u001b[0mchat\u001b[0m\u001b[1;33m[\u001b[0m\u001b[1;34m'match_id'\u001b[0m\u001b[1;33m]\u001b[0m\u001b[1;33m==\u001b[0m\u001b[0mi\u001b[0m\u001b[1;33m)\u001b[0m\u001b[1;33m&\u001b[0m \u001b[1;33m(\u001b[0m\u001b[0mchat\u001b[0m\u001b[1;33m[\u001b[0m\u001b[1;34m'time'\u001b[0m\u001b[1;33m]\u001b[0m\u001b[1;33m<\u001b[0m\u001b[0mstart\u001b[0m\u001b[1;33m[\u001b[0m\u001b[0mlen\u001b[0m\u001b[1;33m(\u001b[0m\u001b[0mstart\u001b[0m\u001b[1;33m)\u001b[0m\u001b[1;33m-\u001b[0m\u001b[0mk\u001b[0m\u001b[1;33m-\u001b[0m\u001b[1;36m1\u001b[0m\u001b[1;33m]\u001b[0m\u001b[1;33m)\u001b[0m\u001b[1;33m,\u001b[0m \u001b[1;34m'start'\u001b[0m\u001b[1;33m]\u001b[0m \u001b[1;33m=\u001b[0m \u001b[0mstart\u001b[0m\u001b[1;33m[\u001b[0m\u001b[0mlen\u001b[0m\u001b[1;33m(\u001b[0m\u001b[0mstart\u001b[0m\u001b[1;33m)\u001b[0m\u001b[1;33m-\u001b[0m\u001b[0mk\u001b[0m\u001b[1;33m-\u001b[0m\u001b[1;36m1\u001b[0m\u001b[1;33m]\u001b[0m\u001b[1;33m\u001b[0m\u001b[1;33m\u001b[0m\u001b[0m\n\u001b[0m",
      "\u001b[1;32m~\\AppData\\Roaming\\Python\\Python38\\site-packages\\pandas\\core\\ops\\common.py\u001b[0m in \u001b[0;36mnew_method\u001b[1;34m(self, other)\u001b[0m\n\u001b[0;32m     68\u001b[0m         \u001b[0mother\u001b[0m \u001b[1;33m=\u001b[0m \u001b[0mitem_from_zerodim\u001b[0m\u001b[1;33m(\u001b[0m\u001b[0mother\u001b[0m\u001b[1;33m)\u001b[0m\u001b[1;33m\u001b[0m\u001b[1;33m\u001b[0m\u001b[0m\n\u001b[0;32m     69\u001b[0m \u001b[1;33m\u001b[0m\u001b[0m\n\u001b[1;32m---> 70\u001b[1;33m         \u001b[1;32mreturn\u001b[0m \u001b[0mmethod\u001b[0m\u001b[1;33m(\u001b[0m\u001b[0mself\u001b[0m\u001b[1;33m,\u001b[0m \u001b[0mother\u001b[0m\u001b[1;33m)\u001b[0m\u001b[1;33m\u001b[0m\u001b[1;33m\u001b[0m\u001b[0m\n\u001b[0m\u001b[0;32m     71\u001b[0m \u001b[1;33m\u001b[0m\u001b[0m\n\u001b[0;32m     72\u001b[0m     \u001b[1;32mreturn\u001b[0m \u001b[0mnew_method\u001b[0m\u001b[1;33m\u001b[0m\u001b[1;33m\u001b[0m\u001b[0m\n",
      "\u001b[1;32m~\\AppData\\Roaming\\Python\\Python38\\site-packages\\pandas\\core\\arraylike.py\u001b[0m in \u001b[0;36m__and__\u001b[1;34m(self, other)\u001b[0m\n\u001b[0;32m     68\u001b[0m     \u001b[1;33m@\u001b[0m\u001b[0munpack_zerodim_and_defer\u001b[0m\u001b[1;33m(\u001b[0m\u001b[1;34m\"__and__\"\u001b[0m\u001b[1;33m)\u001b[0m\u001b[1;33m\u001b[0m\u001b[1;33m\u001b[0m\u001b[0m\n\u001b[0;32m     69\u001b[0m     \u001b[1;32mdef\u001b[0m \u001b[0m__and__\u001b[0m\u001b[1;33m(\u001b[0m\u001b[0mself\u001b[0m\u001b[1;33m,\u001b[0m \u001b[0mother\u001b[0m\u001b[1;33m)\u001b[0m\u001b[1;33m:\u001b[0m\u001b[1;33m\u001b[0m\u001b[1;33m\u001b[0m\u001b[0m\n\u001b[1;32m---> 70\u001b[1;33m         \u001b[1;32mreturn\u001b[0m \u001b[0mself\u001b[0m\u001b[1;33m.\u001b[0m\u001b[0m_logical_method\u001b[0m\u001b[1;33m(\u001b[0m\u001b[0mother\u001b[0m\u001b[1;33m,\u001b[0m \u001b[0moperator\u001b[0m\u001b[1;33m.\u001b[0m\u001b[0mand_\u001b[0m\u001b[1;33m)\u001b[0m\u001b[1;33m\u001b[0m\u001b[1;33m\u001b[0m\u001b[0m\n\u001b[0m\u001b[0;32m     71\u001b[0m \u001b[1;33m\u001b[0m\u001b[0m\n\u001b[0;32m     72\u001b[0m     \u001b[1;33m@\u001b[0m\u001b[0munpack_zerodim_and_defer\u001b[0m\u001b[1;33m(\u001b[0m\u001b[1;34m\"__rand__\"\u001b[0m\u001b[1;33m)\u001b[0m\u001b[1;33m\u001b[0m\u001b[1;33m\u001b[0m\u001b[0m\n",
      "\u001b[1;32m~\\AppData\\Roaming\\Python\\Python38\\site-packages\\pandas\\core\\series.py\u001b[0m in \u001b[0;36m_logical_method\u001b[1;34m(self, other, op)\u001b[0m\n\u001b[0;32m   5632\u001b[0m         \u001b[0mrvalues\u001b[0m \u001b[1;33m=\u001b[0m \u001b[0mextract_array\u001b[0m\u001b[1;33m(\u001b[0m\u001b[0mother\u001b[0m\u001b[1;33m,\u001b[0m \u001b[0mextract_numpy\u001b[0m\u001b[1;33m=\u001b[0m\u001b[1;32mTrue\u001b[0m\u001b[1;33m,\u001b[0m \u001b[0mextract_range\u001b[0m\u001b[1;33m=\u001b[0m\u001b[1;32mTrue\u001b[0m\u001b[1;33m)\u001b[0m\u001b[1;33m\u001b[0m\u001b[1;33m\u001b[0m\u001b[0m\n\u001b[0;32m   5633\u001b[0m \u001b[1;33m\u001b[0m\u001b[0m\n\u001b[1;32m-> 5634\u001b[1;33m         \u001b[0mres_values\u001b[0m \u001b[1;33m=\u001b[0m \u001b[0mops\u001b[0m\u001b[1;33m.\u001b[0m\u001b[0mlogical_op\u001b[0m\u001b[1;33m(\u001b[0m\u001b[0mlvalues\u001b[0m\u001b[1;33m,\u001b[0m \u001b[0mrvalues\u001b[0m\u001b[1;33m,\u001b[0m \u001b[0mop\u001b[0m\u001b[1;33m)\u001b[0m\u001b[1;33m\u001b[0m\u001b[1;33m\u001b[0m\u001b[0m\n\u001b[0m\u001b[0;32m   5635\u001b[0m         \u001b[1;32mreturn\u001b[0m \u001b[0mself\u001b[0m\u001b[1;33m.\u001b[0m\u001b[0m_construct_result\u001b[0m\u001b[1;33m(\u001b[0m\u001b[0mres_values\u001b[0m\u001b[1;33m,\u001b[0m \u001b[0mname\u001b[0m\u001b[1;33m=\u001b[0m\u001b[0mres_name\u001b[0m\u001b[1;33m)\u001b[0m\u001b[1;33m\u001b[0m\u001b[1;33m\u001b[0m\u001b[0m\n\u001b[0;32m   5636\u001b[0m \u001b[1;33m\u001b[0m\u001b[0m\n",
      "\u001b[1;32m~\\AppData\\Roaming\\Python\\Python38\\site-packages\\pandas\\core\\ops\\array_ops.py\u001b[0m in \u001b[0;36mlogical_op\u001b[1;34m(left, right, op)\u001b[0m\n\u001b[0;32m    379\u001b[0m         \u001b[1;32mif\u001b[0m \u001b[0misinstance\u001b[0m\u001b[1;33m(\u001b[0m\u001b[0mrvalues\u001b[0m\u001b[1;33m,\u001b[0m \u001b[0mnp\u001b[0m\u001b[1;33m.\u001b[0m\u001b[0mndarray\u001b[0m\u001b[1;33m)\u001b[0m\u001b[1;33m:\u001b[0m\u001b[1;33m\u001b[0m\u001b[1;33m\u001b[0m\u001b[0m\n\u001b[0;32m    380\u001b[0m             \u001b[0mis_other_int_dtype\u001b[0m \u001b[1;33m=\u001b[0m \u001b[0mis_integer_dtype\u001b[0m\u001b[1;33m(\u001b[0m\u001b[0mrvalues\u001b[0m\u001b[1;33m.\u001b[0m\u001b[0mdtype\u001b[0m\u001b[1;33m)\u001b[0m\u001b[1;33m\u001b[0m\u001b[1;33m\u001b[0m\u001b[0m\n\u001b[1;32m--> 381\u001b[1;33m             \u001b[0mrvalues\u001b[0m \u001b[1;33m=\u001b[0m \u001b[0mrvalues\u001b[0m \u001b[1;32mif\u001b[0m \u001b[0mis_other_int_dtype\u001b[0m \u001b[1;32melse\u001b[0m \u001b[0mfill_bool\u001b[0m\u001b[1;33m(\u001b[0m\u001b[0mrvalues\u001b[0m\u001b[1;33m,\u001b[0m \u001b[0mlvalues\u001b[0m\u001b[1;33m)\u001b[0m\u001b[1;33m\u001b[0m\u001b[1;33m\u001b[0m\u001b[0m\n\u001b[0m\u001b[0;32m    382\u001b[0m \u001b[1;33m\u001b[0m\u001b[0m\n\u001b[0;32m    383\u001b[0m         \u001b[1;32melse\u001b[0m\u001b[1;33m:\u001b[0m\u001b[1;33m\u001b[0m\u001b[1;33m\u001b[0m\u001b[0m\n",
      "\u001b[1;32m~\\AppData\\Roaming\\Python\\Python38\\site-packages\\pandas\\core\\ops\\array_ops.py\u001b[0m in \u001b[0;36mfill_bool\u001b[1;34m(x, left)\u001b[0m\n\u001b[0;32m    358\u001b[0m \u001b[1;33m\u001b[0m\u001b[0m\n\u001b[0;32m    359\u001b[0m         \u001b[1;32mif\u001b[0m \u001b[0mleft\u001b[0m \u001b[1;32mis\u001b[0m \u001b[1;32mNone\u001b[0m \u001b[1;32mor\u001b[0m \u001b[0mis_bool_dtype\u001b[0m\u001b[1;33m(\u001b[0m\u001b[0mleft\u001b[0m\u001b[1;33m.\u001b[0m\u001b[0mdtype\u001b[0m\u001b[1;33m)\u001b[0m\u001b[1;33m:\u001b[0m\u001b[1;33m\u001b[0m\u001b[1;33m\u001b[0m\u001b[0m\n\u001b[1;32m--> 360\u001b[1;33m             \u001b[0mx\u001b[0m \u001b[1;33m=\u001b[0m \u001b[0mx\u001b[0m\u001b[1;33m.\u001b[0m\u001b[0mastype\u001b[0m\u001b[1;33m(\u001b[0m\u001b[0mbool\u001b[0m\u001b[1;33m)\u001b[0m\u001b[1;33m\u001b[0m\u001b[1;33m\u001b[0m\u001b[0m\n\u001b[0m\u001b[0;32m    361\u001b[0m         \u001b[1;32mreturn\u001b[0m \u001b[0mx\u001b[0m\u001b[1;33m\u001b[0m\u001b[1;33m\u001b[0m\u001b[0m\n\u001b[0;32m    362\u001b[0m \u001b[1;33m\u001b[0m\u001b[0m\n",
      "\u001b[1;31mKeyboardInterrupt\u001b[0m: "
     ]
    }
   ],
   "source": [
    "for i in range(50000):\n",
    "    start = tf2[tf2.match_id == i]['start'].to_list()\n",
    "    for k in range(len(start)):\n",
    "        chat.loc[(chat['match_id']==i)& (chat['time']<start[len(start)-k-1]), 'start'] = start[len(start)-k-1]"
   ]
  },
  {
   "cell_type": "markdown",
   "id": "29cf8a89-412a-4527-be30-5c7d210d5363",
   "metadata": {},
   "source": [
    "### Only first 20,000 games"
   ]
  },
  {
   "cell_type": "code",
   "execution_count": null,
   "id": "ec0aec8a-614a-4106-b967-71760d84eca8",
   "metadata": {},
   "outputs": [],
   "source": [
    "chat = chat[chat.match_id<20000]"
   ]
  },
  {
   "cell_type": "code",
   "execution_count": null,
   "id": "2d8263e8-1ca8-49af-85b3-8dbcebcfaea2",
   "metadata": {},
   "outputs": [],
   "source": [
    "chat = chat.dropna()"
   ]
  },
  {
   "cell_type": "code",
   "execution_count": null,
   "id": "1aec9be5-2ddf-4da7-8e24-5619f9793a55",
   "metadata": {},
   "outputs": [],
   "source": [
    "chat = chat.groupby(['match_id', 'start', 'slot'])['key'].apply(' '.join).reset_index()"
   ]
  },
  {
   "cell_type": "code",
   "execution_count": null,
   "id": "07dd7900-3d71-47f4-bdb4-bfaf538a7445",
   "metadata": {},
   "outputs": [],
   "source": [
    "chat.head()"
   ]
  },
  {
   "cell_type": "markdown",
   "id": "af18fef1-93db-449a-bc10-6ec8e72ea469",
   "metadata": {},
   "source": [
    "### Predict toxicity"
   ]
  },
  {
   "cell_type": "code",
   "execution_count": null,
   "id": "a5f7e3dc-0ad5-4b0f-9d73-1694b0710a57",
   "metadata": {},
   "outputs": [],
   "source": [
    "import pickle"
   ]
  },
  {
   "cell_type": "code",
   "execution_count": null,
   "id": "08690770-03d9-446c-a61b-014564f4f31d",
   "metadata": {},
   "outputs": [],
   "source": [
    "# load model\n",
    "model = pickle.load(open('../toxic_classifier/log_model.pkl', 'rb'))"
   ]
  },
  {
   "cell_type": "code",
   "execution_count": null,
   "id": "8a93b5d2-ecdf-4d1f-92a3-6f129e6257d2",
   "metadata": {},
   "outputs": [],
   "source": [
    "import os\n",
    "import re\n",
    "import nltk\n",
    "import string\n",
    "import numpy as np\n",
    "import pandas as pd\n",
    "\n",
    "from sklearn.feature_extraction.text import TfidfVectorizer\n",
    "from nltk.corpus import stopwords\n",
    "from nltk.tokenize import word_tokenize\n",
    "from nltk.stem import WordNetLemmatizer, LancasterStemmer \n",
    "\n",
    "from sklearn.naive_bayes import BernoulliNB\n",
    "from sklearn.linear_model import LinearRegression, Ridge, Lasso\n",
    "from sklearn.linear_model import LogisticRegression\n",
    "from sklearn.tree import DecisionTreeClassifier\n",
    "from sklearn.neighbors import KNeighborsClassifier\n",
    "from sklearn.metrics import classification_report\n",
    "from sklearn.svm import LinearSVC\n",
    "\n",
    "import warnings\n",
    "warnings.filterwarnings(\"ignore\")"
   ]
  },
  {
   "cell_type": "code",
   "execution_count": null,
   "id": "27a17dc6-720d-4a12-9c47-ca70fb37b6bc",
   "metadata": {},
   "outputs": [],
   "source": [
    "# load the stopword list provided by the NLTK library\n",
    "stop_words = stopwords.words('english')"
   ]
  },
  {
   "cell_type": "code",
   "execution_count": null,
   "id": "68a61ba6-e923-4fb3-b23f-08f77f5408c6",
   "metadata": {},
   "outputs": [],
   "source": [
    "def preprocessing_text(text):\n",
    "    text = re.sub(r'[^A-Za-z0-9 ]+', ' ', text) #remove all non‐alphanumeric characters except white space\n",
    "    text = re.sub(\"(.)\\\\1{2,}\", \"\\\\1\", text) #replace 3+ consecutive letters to 1 (loooovvvve -> love)\n",
    "    text = re.sub(r'([a-z0-9+._-]+@[a-z0-9+._-]+\\.[a-z0-9+_-]+)',\"\", text) # remove emails\n",
    "    text = re.sub(r'(http|https|ftp|ssh)://([\\w_-]+(?:(?:\\.[\\w_-]+)+))([\\w.,@?^=%&:/~+#-]*[\\w@?^=%&/~+#-])?', '' , text) # remove urls\n",
    "    words = word_tokenize(text.lower())\n",
    "    tokens = [word for word in words if word not in stop_words]\n",
    "    tokens = [token for token in tokens if not any(c.isdigit() for c in token)] #remove everything containing digits\n",
    "    lemmatizer = WordNetLemmatizer()\n",
    "    tokens_lematized = [lemmatizer.lemmatize(word) for word in tokens]\n",
    "    preprocessed_text = ' '.join(tokens_lematized)\n",
    "    return preprocessed_text"
   ]
  },
  {
   "cell_type": "code",
   "execution_count": null,
   "id": "5f224e96-0c2a-430d-b78e-5961e67a8b0e",
   "metadata": {},
   "outputs": [],
   "source": [
    "with open(\"../toxic_classifier/comment_data.pkl\", \"rb\") as fp:   # Unpickling\n",
    "    df = pickle.load(fp)"
   ]
  },
  {
   "cell_type": "code",
   "execution_count": null,
   "id": "c66db2e9-e824-44d3-ae5e-c51efe0fcb5a",
   "metadata": {},
   "outputs": [],
   "source": [
    "vectorizer = TfidfVectorizer() \n",
    "tfidf = vectorizer.fit_transform(df.comment_text)"
   ]
  },
  {
   "cell_type": "code",
   "execution_count": null,
   "id": "09905898-bbec-47d1-a558-ebfce59737e3",
   "metadata": {},
   "outputs": [],
   "source": [
    "def get_pred(s):\n",
    "    x = []\n",
    "    x.append(s)\n",
    "    x[0] = preprocessing_text(x[0])\n",
    "    vec = vectorizer.transform(x)\n",
    "    label = model.predict(vec)[0]\n",
    "    return label"
   ]
  },
  {
   "cell_type": "code",
   "execution_count": null,
   "id": "6ce26df0-0374-4b87-abf1-f57217f51d69",
   "metadata": {},
   "outputs": [],
   "source": [
    "chat['toxic'] = chat['key'].apply(lambda x: get_pred(x))"
   ]
  },
  {
   "cell_type": "code",
   "execution_count": null,
   "id": "3a0337a1-74c6-41c2-bb25-b06cf0eba662",
   "metadata": {},
   "outputs": [],
   "source": []
  },
  {
   "cell_type": "code",
   "execution_count": null,
   "id": "b34fb62f-9497-4e78-b041-3cfda149c95d",
   "metadata": {},
   "outputs": [],
   "source": []
  },
  {
   "cell_type": "code",
   "execution_count": null,
   "id": "2b3adef2-9eb9-4e99-8209-73d04c0573de",
   "metadata": {},
   "outputs": [],
   "source": []
  },
  {
   "cell_type": "code",
   "execution_count": null,
   "id": "d22ca690-3936-48f0-9349-96f7d18e0a47",
   "metadata": {},
   "outputs": [],
   "source": [
    "chat"
   ]
  },
  {
   "cell_type": "code",
   "execution_count": null,
   "id": "d54a79e2-73ce-4b55-ac20-0544fa9cb776",
   "metadata": {},
   "outputs": [],
   "source": [
    "chat"
   ]
  },
  {
   "cell_type": "code",
   "execution_count": null,
   "id": "8a4a769b-a4c0-454a-ab8b-136b929fe945",
   "metadata": {},
   "outputs": [],
   "source": [
    "chat.pivot(columns='slot', values=['key'])"
   ]
  },
  {
   "cell_type": "code",
   "execution_count": null,
   "id": "50ad7a43-d244-4ab1-9507-b4d6dfb004bd",
   "metadata": {},
   "outputs": [],
   "source": []
  },
  {
   "cell_type": "code",
   "execution_count": null,
   "id": "bc5a6ff8-de3d-453c-a072-a57e186fd4bd",
   "metadata": {},
   "outputs": [],
   "source": [
    "chat"
   ]
  },
  {
   "cell_type": "code",
   "execution_count": null,
   "id": "ded61d04-d739-458b-bf0f-8fff4ca5159d",
   "metadata": {},
   "outputs": [],
   "source": [
    "chat[chat.match_id==19999]"
   ]
  },
  {
   "cell_type": "code",
   "execution_count": null,
   "id": "670b558d-084d-4c4d-b157-530738c370f4",
   "metadata": {},
   "outputs": [],
   "source": [
    "chat.to_csv('../../Data/Modified/chat_modified_v1.csv')"
   ]
  },
  {
   "cell_type": "code",
   "execution_count": null,
   "id": "ea9958bd-e9fc-468f-881c-b066c48b2a43",
   "metadata": {},
   "outputs": [],
   "source": [
    "chat.loc[(chat['match_id']==0)& (chat['time']<start[len(start)-0-1]), 'start'] = start[len(start)-0-1]"
   ]
  },
  {
   "cell_type": "code",
   "execution_count": null,
   "id": "4b1404f1-54e4-4297-8ea5-763ad0cf4440",
   "metadata": {},
   "outputs": [],
   "source": [
    "tf2[tf2.match_id == 1000]"
   ]
  },
  {
   "cell_type": "code",
   "execution_count": null,
   "id": "9b892caa-4411-4785-9c91-6337979611f6",
   "metadata": {},
   "outputs": [],
   "source": [
    "chat[chat.match_id==20000]"
   ]
  },
  {
   "cell_type": "code",
   "execution_count": null,
   "id": "5e18cfc9-2a0e-49c0-8bb1-87e932626e0c",
   "metadata": {},
   "outputs": [],
   "source": [
    "start = tf2[tf2.match_id == 0]['start']"
   ]
  },
  {
   "cell_type": "code",
   "execution_count": null,
   "id": "d95726b0-2565-42dd-9e7e-6943bce7ba7c",
   "metadata": {},
   "outputs": [],
   "source": [
    "start[0]"
   ]
  },
  {
   "cell_type": "code",
   "execution_count": null,
   "id": "b34a04da-ccce-49a0-a0ad-cc64941b70ca",
   "metadata": {},
   "outputs": [],
   "source": [
    "chat"
   ]
  },
  {
   "cell_type": "code",
   "execution_count": null,
   "id": "25fd0fb1-196b-41a1-9d8b-35bca64ca6be",
   "metadata": {},
   "outputs": [],
   "source": [
    "chat.loc[(chat['match_id']==0)& (chat['time']<start[len(start)-0]), 'start'] = start[len(start)-0]"
   ]
  },
  {
   "cell_type": "code",
   "execution_count": null,
   "id": "f7968d43-d1e1-45ef-870b-3eb51469ba97",
   "metadata": {},
   "outputs": [],
   "source": [
    "start"
   ]
  },
  {
   "cell_type": "code",
   "execution_count": null,
   "id": "495d5114-a4b1-4598-b645-465655a7f501",
   "metadata": {},
   "outputs": [],
   "source": [
    "start[0]"
   ]
  },
  {
   "cell_type": "code",
   "execution_count": null,
   "id": "0f37522d-67a2-4a1e-93b2-ca4a3dcfbe4d",
   "metadata": {},
   "outputs": [],
   "source": [
    "start[len(start)-1]"
   ]
  },
  {
   "cell_type": "code",
   "execution_count": null,
   "id": "3f2f4338-76f8-4c7f-b76d-1c0958a3082d",
   "metadata": {},
   "outputs": [],
   "source": [
    "for k in range(len(start)):\n",
    "    print(start[len(start)-1-k])"
   ]
  },
  {
   "cell_type": "code",
   "execution_count": null,
   "id": "b09f8dd2-3a33-4e78-bd1a-fb26a253dcc2",
   "metadata": {},
   "outputs": [],
   "source": [
    "chat"
   ]
  },
  {
   "cell_type": "code",
   "execution_count": null,
   "id": "7083f5a7-29b2-46e5-acf5-614841135c04",
   "metadata": {},
   "outputs": [],
   "source": [
    "for i in range()"
   ]
  },
  {
   "cell_type": "code",
   "execution_count": null,
   "id": "74a47afd-d807-44db-bc50-0c4511017d7e",
   "metadata": {},
   "outputs": [],
   "source": [
    "chat[chat.match_id == 0]"
   ]
  },
  {
   "cell_type": "code",
   "execution_count": null,
   "id": "c63a0bc4-b248-4a25-9b90-0fc8f78df6d4",
   "metadata": {},
   "outputs": [],
   "source": [
    "chat.slot.unique()"
   ]
  },
  {
   "cell_type": "code",
   "execution_count": null,
   "id": "812a5618-c549-4e19-a6dd-d921cb708c09",
   "metadata": {},
   "outputs": [],
   "source": [
    "chat[chat['slot']==-9]"
   ]
  },
  {
   "cell_type": "code",
   "execution_count": null,
   "id": "fc72d8c6-8ee6-4346-b6f6-2ef6dc782b42",
   "metadata": {},
   "outputs": [],
   "source": []
  },
  {
   "cell_type": "code",
   "execution_count": null,
   "id": "7b754252-c44f-42ac-bd36-7cdf49a249ea",
   "metadata": {},
   "outputs": [],
   "source": []
  },
  {
   "cell_type": "code",
   "execution_count": null,
   "id": "4c781a1f-fbae-465a-912a-589bb6b7fc4a",
   "metadata": {},
   "outputs": [],
   "source": []
  },
  {
   "cell_type": "code",
   "execution_count": null,
   "id": "8bbd4801-4de2-4db8-b5b4-9d7c29b0a37b",
   "metadata": {},
   "outputs": [],
   "source": []
  },
  {
   "cell_type": "code",
   "execution_count": null,
   "id": "b5f45853-c3ba-45ed-af1a-1ba7245ffdb2",
   "metadata": {},
   "outputs": [],
   "source": []
  },
  {
   "cell_type": "code",
   "execution_count": null,
   "id": "f0d031c5-3f29-4719-985b-5dc217076074",
   "metadata": {},
   "outputs": [],
   "source": [
    "chat.at[652287,'slot']=3"
   ]
  },
  {
   "cell_type": "code",
   "execution_count": null,
   "id": "c76379c7-8c4c-44c1-89e8-8c75b9043893",
   "metadata": {},
   "outputs": [],
   "source": [
    "chat[chat.match_id == 22654]"
   ]
  },
  {
   "cell_type": "code",
   "execution_count": null,
   "id": "a2301222-1d3b-4f1e-9b8b-c4a0b81eabc4",
   "metadata": {},
   "outputs": [],
   "source": [
    "player_time"
   ]
  },
  {
   "cell_type": "code",
   "execution_count": null,
   "id": "cdc92c01-d3ab-4cb2-abdc-403fa4a0ad10",
   "metadata": {
    "tags": []
   },
   "outputs": [],
   "source": [
    "for i in columns_to_create:\n",
    "    tf[i] = \"\"\n",
    "    for k in range(len(tf)):\n",
    "        tf.loc[k,i] = player_time.loc[player_time['match_id'] == tf.loc[k].match_id, ('times','lh_t_1')].loc[player_time['times'] == tf.loc[k].times, 'lh_t_1'].iloc[0]\n"
   ]
  },
  {
   "cell_type": "code",
   "execution_count": null,
   "id": "7a85c9df-8f34-45a7-93c9-d34ce49edc12",
   "metadata": {},
   "outputs": [],
   "source": [
    "tf.loc[k].times"
   ]
  },
  {
   "cell_type": "code",
   "execution_count": null,
   "id": "8002ed69-e1bf-4e48-9597-bb6f89e05800",
   "metadata": {},
   "outputs": [],
   "source": [
    "tf.loc[k].match_id"
   ]
  },
  {
   "cell_type": "code",
   "execution_count": null,
   "id": "fc311bb2-40c9-437b-b432-3158e5efda72",
   "metadata": {},
   "outputs": [],
   "source": [
    "tf.loc[0,i] = 2"
   ]
  },
  {
   "cell_type": "code",
   "execution_count": null,
   "id": "501e8ab2-353b-4fe6-b313-5b6782fd89ac",
   "metadata": {},
   "outputs": [],
   "source": [
    "tf.loc[tf['A'] > 2, 'B'] = new_val"
   ]
  },
  {
   "cell_type": "code",
   "execution_count": null,
   "id": "7750d4a7-74a5-4420-bde9-43f53794c1f6",
   "metadata": {},
   "outputs": [],
   "source": [
    "i"
   ]
  },
  {
   "cell_type": "code",
   "execution_count": null,
   "id": "5f14b617-eed3-4260-ac2e-5861e6485c2a",
   "metadata": {},
   "outputs": [],
   "source": [
    "tf[tf.match_id == 23]"
   ]
  },
  {
   "cell_type": "code",
   "execution_count": null,
   "id": "9215cd69-2138-49a1-b10b-91fa247ce863",
   "metadata": {},
   "outputs": [],
   "source": [
    "tf.times.unique()"
   ]
  },
  {
   "cell_type": "code",
   "execution_count": null,
   "id": "98172ce9-986a-4af6-a25f-eb494ab7d478",
   "metadata": {},
   "outputs": [],
   "source": [
    "player_time.times.unique()"
   ]
  },
  {
   "cell_type": "code",
   "execution_count": null,
   "id": "cdc6a861-4f4e-409a-b8b7-c370fd6ba7f2",
   "metadata": {},
   "outputs": [],
   "source": [
    "player_time[player_time.match_id==23]"
   ]
  },
  {
   "cell_type": "code",
   "execution_count": null,
   "id": "fd0d233f-307d-4909-bba9-5eaab83429e2",
   "metadata": {},
   "outputs": [],
   "source": [
    "tf"
   ]
  },
  {
   "cell_type": "code",
   "execution_count": null,
   "id": "4849c1d2-b709-4d48-b8b5-be7cfdb5a149",
   "metadata": {},
   "outputs": [],
   "source": [
    "tf.loc[0].i = player_time.loc[player_time['match_id'] == tf.loc[k].match_id, ('times','lh_t_1')].loc[player_time['times'] == tf.loc[k].times, 'lh_t_1'].iloc[0]"
   ]
  },
  {
   "cell_type": "code",
   "execution_count": null,
   "id": "aefcbf41-02c8-400c-af2a-66ffec42c93d",
   "metadata": {},
   "outputs": [],
   "source": [
    "player_time.loc[player_time['match_id'] == tf.loc[k].match_id, ('times','lh_t_1')].loc[player_time['times'] == tf.loc[k].times, 'lh_t_1'].iloc[0]"
   ]
  },
  {
   "cell_type": "code",
   "execution_count": null,
   "id": "494d738d-a495-4c5c-89fe-58ed872731ac",
   "metadata": {},
   "outputs": [],
   "source": [
    "tf.loc[0][i]"
   ]
  },
  {
   "cell_type": "code",
   "execution_count": null,
   "id": "66904b85-09a6-44d4-91a8-f90fcc02ae6e",
   "metadata": {},
   "outputs": [],
   "source": [
    "tf"
   ]
  },
  {
   "cell_type": "code",
   "execution_count": null,
   "id": "70ffdb5c-c7d6-4ddf-93d3-2705c61e99de",
   "metadata": {},
   "outputs": [],
   "source": [
    "event_times"
   ]
  },
  {
   "cell_type": "code",
   "execution_count": null,
   "id": "01ef150f-3291-4b5f-8e31-4fa85d334166",
   "metadata": {},
   "outputs": [],
   "source": [
    "player_time.loc[player_time['match_id'] == 0, ('times','lh_t_1')].loc[player_time['times'] == 120, 'lh_t_1'].iloc[0]"
   ]
  },
  {
   "cell_type": "code",
   "execution_count": null,
   "id": "e4687bef-a838-4a33-85aa-8a8acc648e2e",
   "metadata": {},
   "outputs": [],
   "source": [
    "player_time.loc[idx]['lh_t_0']"
   ]
  },
  {
   "cell_type": "code",
   "execution_count": null,
   "id": "de477830-b840-40f6-b594-a52bc0028203",
   "metadata": {},
   "outputs": [],
   "source": [
    "idx = player_time.index[(player_time.match_id ==0) & (player_time.times == 60)].tolist()[0]"
   ]
  },
  {
   "cell_type": "code",
   "execution_count": null,
   "id": "817f5ca1-d117-4998-8a0a-aea34133dc95",
   "metadata": {},
   "outputs": [],
   "source": [
    "player_time"
   ]
  },
  {
   "cell_type": "code",
   "execution_count": null,
   "id": "c72d7f84-f71e-4ec2-830e-b7fc6cb5c431",
   "metadata": {},
   "outputs": [],
   "source": [
    "event_times"
   ]
  },
  {
   "cell_type": "code",
   "execution_count": null,
   "id": "4356884b-4598-4e6b-83c9-c50c6790b34c",
   "metadata": {},
   "outputs": [],
   "source": [
    "list(player_time.columns)"
   ]
  },
  {
   "cell_type": "code",
   "execution_count": null,
   "id": "65453186-b63c-4959-b8eb-2ed66003b72f",
   "metadata": {},
   "outputs": [],
   "source": []
  },
  {
   "cell_type": "code",
   "execution_count": null,
   "id": "f80d21a9-9c40-4742-ac60-5389d4acf002",
   "metadata": {},
   "outputs": [],
   "source": []
  },
  {
   "cell_type": "code",
   "execution_count": null,
   "id": "1d8c4f03-2d99-43a7-9cca-26f7b11f071a",
   "metadata": {},
   "outputs": [],
   "source": [
    "for i in range(n_observations):\n",
    "    # event_times for game i\n",
    "    event_times = tf[tf.match_id == i].start\n",
    "    \n",
    "    # for each event_time, \n",
    "    for k in range(len(event_times)):\n",
    "        for j in range(10):\n",
    "            tf_player.at[10*k + j,'start'] = event_times.iloc[k]"
   ]
  },
  {
   "cell_type": "code",
   "execution_count": null,
   "id": "cd9ccc09-dca1-47c6-8c82-166690969789",
   "metadata": {},
   "outputs": [],
   "source": [
    "event_times = tf[tf.match_id == 3].start"
   ]
  },
  {
   "cell_type": "code",
   "execution_count": null,
   "id": "1c70a27f-6f26-471d-90d3-52647bb72999",
   "metadata": {},
   "outputs": [],
   "source": [
    "event_times = tf.start\n",
    "len(event_times)"
   ]
  },
  {
   "cell_type": "code",
   "execution_count": null,
   "id": "9f85fb8e-307a-4d27-9497-f23c5fa5f3b9",
   "metadata": {},
   "outputs": [],
   "source": [
    "len(tf_player)"
   ]
  },
  {
   "cell_type": "code",
   "execution_count": null,
   "id": "946d7b45-0173-4e86-9993-b0d039e11dc4",
   "metadata": {},
   "outputs": [],
   "source": [
    "x = tf[tf.match_id == 0]\n",
    "y = x.start\n",
    "y"
   ]
  },
  {
   "cell_type": "code",
   "execution_count": null,
   "id": "37a90fe1-3ed6-4551-879b-8a4ba744c6fa",
   "metadata": {},
   "outputs": [],
   "source": [
    "tf_player.head()"
   ]
  },
  {
   "cell_type": "code",
   "execution_count": null,
   "id": "8fe6db0e-3155-4843-a81a-f9e285b676ff",
   "metadata": {},
   "outputs": [],
   "source": [
    "tf_player.groupby(['match_id', 'start']).mean()"
   ]
  },
  {
   "cell_type": "code",
   "execution_count": null,
   "id": "c8dc504b-df5f-4d40-96cb-f70a7a0d08eb",
   "metadata": {},
   "outputs": [],
   "source": [
    "tf_player.at[0,'start']=10"
   ]
  },
  {
   "cell_type": "code",
   "execution_count": null,
   "id": "beb0ad64-f997-45ee-90f6-885a24b72f8b",
   "metadata": {},
   "outputs": [],
   "source": [
    "set_value?df.at[4, 'B']"
   ]
  },
  {
   "cell_type": "code",
   "execution_count": null,
   "id": "bac65e7f-7c2d-449a-8d47-7bace89422ee",
   "metadata": {},
   "outputs": [],
   "source": []
  }
 ],
 "metadata": {
  "kernelspec": {
   "display_name": "Python 3 (ipykernel)",
   "language": "python",
   "name": "python3"
  },
  "language_info": {
   "codemirror_mode": {
    "name": "ipython",
    "version": 3
   },
   "file_extension": ".py",
   "mimetype": "text/x-python",
   "name": "python",
   "nbconvert_exporter": "python",
   "pygments_lexer": "ipython3",
   "version": "3.8.3"
  }
 },
 "nbformat": 4,
 "nbformat_minor": 5
}
