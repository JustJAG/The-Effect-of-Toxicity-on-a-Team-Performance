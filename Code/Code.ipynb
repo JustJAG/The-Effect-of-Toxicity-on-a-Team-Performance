{
 "cells": [
  {
   "cell_type": "markdown",
   "id": "27d27069-fc01-406f-89f4-68fd4ac8843e",
   "metadata": {
    "tags": []
   },
   "source": [
    "# THE EFFECT OF SENTIMENTS IN COMMUNICATION ON A TEAM PERFORMANCE\n",
    "\n",
    "## by Abay Jumabayev\n",
    "\n",
    "> Submitted to Central European University <br>\n",
    "> Department of Economics and Business <br>\n",
    "> In partial fulfillment of the requirements for the degree of  Masters of Arts in Economics\n",
    "\n",
    "\n",
    "This notebook provides:\n",
    "* an information about the project,\n",
    "* a description of the game and the data,\n",
    "* an analysis of the data\n"
   ]
  },
  {
   "cell_type": "markdown",
   "id": "1bf11c33-758b-4ba2-8c3c-dc25c2beb04a",
   "metadata": {},
   "source": [
    "## Short info about the project\n",
    "\n",
    "I want to understand the effect of certain sentiments in communication on the performance of a team. Being rude to a team or just to one member can change the mood of the team, which in turn could deteriorate the way the team works. As people are social creatures and spend a significant amount of time performing a job, it is important to understand whether social behavior has an impact on team performance. I reduce a definition of a team to a small group (4 to 6 people) that consists of workers who are (i) high educated, better-paid workers, (ii) who frequently change teams, and (iii) who tend to work remotely. Job positions like a management consultant, software engineer, or researcher fit into the definition of workers in the team.\n",
    "\n",
    "However, it is difficult to get the data on all the communication between team members and quantify the performance. That is why I focus on the Dota 2, a multiplayer online battle arena (MOBA) video game. In this game people, communicate and accomplish tasks in a team, which is similar to the work environment. Due to the recent pandemic, remote jobs are getting popular, and workers shift to using chats instead of verbal communication. This makes communication in work teams look more similar to the one in Dota 2. Moreover, the performance in the game is measurable and equal to the outcome of a match.\n",
    "\n",
    "I use the dataset parsed from Opendota, an open-source platform, containing 50,000 matches. Using another dataset of texts labeled by toxicity I build a model that takes a text as an input and outputs whether the text was toxic or not. I define toxicity as a form of anti-social behavior, and a toxic text is a text that is rude and disrespectful to a reader. Using the model, I label every message sent in Dota 2 chats. Then I transform Dota 2 data to calculate teams’ toxicity levels, in-game attributes, and teams’ skill levels in order to use an OLS regression. \n",
    "\n",
    "OLS results show that toxicity decreases the performance of a team. Having an extra toxic player in a team reduces the chances of winning a game by 1%. The coefficient is statistically significant at a 1% level. This result brings a new determinant of team success, which, to the best of my knowledge, was not considered before in the literature.\n"
   ]
  },
  {
   "cell_type": "markdown",
   "id": "162bc6de-04f7-41a8-bebc-2c7103cc2480",
   "metadata": {},
   "source": [
    "## Description of a game\n",
    "Dota 2 is played in matches between two teams of five players, with each team occupying and defending their own separate base on the map. Each of the ten players independently controls a powerful character known as a \"hero\" that all have unique abilities and differing styles of play. During a match players collect experience points (XP) and buy items (with gold) for their heroes to successfully defeat the opposing team's heroes in player versus player combat. A team wins by being the first to destroy the other team's \"Ancient\", a large structure located within their base. Ancients are located in the left bottom and right upper corners. \n",
    "\n",
    "<img src=https://i.imgur.com/iqE4fxr.png width=\"700\">\n",
    "\n",
    "To destroy the ancient players need XP to level up a hero and gold to buy inventory. For any kill, a hero gains XP and gold. There are three types of characters a player can kill: \n",
    "1. creeps, \n",
    "2. neutrals, \n",
    "3. other heroes. \n",
    "\n",
    "Creeps are non-player characters (NPC) that regularly march from each team's Ancient towards the other Ancient. Creeps march only by lanes (top, mid, bottom) and they are considered to be pawns of each team. Usually heroes help friendly creeps to kill the enemy creeps. \n",
    "\n",
    "Neutral creeps are NPCs that appear in the jungle. Unlike creeps, they are not playing for any team (hence, the name neutral) and don't move unless get attacked. Heroes can \"switch\" from lanes to the jungle and kill neutral creeps.\n",
    "\n",
    "Heroes are human players. There is a total of 10 heroes (10 players), 5 for each team. Sometimes, when several heroes from the opposing teams meet they can decide to fight and get gold and XP. If a hero dies, it appears \n",
    "\n",
    "Overall, players are either killing creeps on lanes, killing neutrals in jungle, or killing heroes. This strategy lasts until one of the team gains enough gold and XP to destroy the ancient."
   ]
  },
  {
   "cell_type": "markdown",
   "id": "66ff59f0-8cc2-4e65-9ea1-9bb5dba29dbe",
   "metadata": {},
   "source": [
    "## Analysis of the data available"
   ]
  },
  {
   "cell_type": "code",
   "execution_count": 1,
   "id": "7c552bbd-cc0e-4fe1-9eb6-5f4529b9fd72",
   "metadata": {},
   "outputs": [],
   "source": [
    "##################################################################\n",
    "## THIS CELL IS FOR PLAYING SOUND AT THE END OF CODE COMPLETION ##\n",
    "##################################################################\n",
    "## Import up sound alert dependencies\n",
    "from IPython.display import Audio, display\n",
    "\n",
    "def allDone():\n",
    "  display(Audio(url='https://sound.peal.io/ps/audios/000/000/537/original/woo_vu_luvub_dub_dub.wav', autoplay=True))\n",
    "## Insert whatever audio file you want above"
   ]
  },
  {
   "cell_type": "code",
   "execution_count": 2,
   "id": "f3541829-bc0b-49c8-a041-2705ba511059",
   "metadata": {},
   "outputs": [],
   "source": [
    "import pandas as pd\n",
    "import numpy as np"
   ]
  },
  {
   "cell_type": "code",
   "execution_count": 3,
   "id": "70135915-097e-4520-bf66-e917a575c4a6",
   "metadata": {},
   "outputs": [],
   "source": [
    "# teamfights data for each player \n",
    "tf_player = pd.read_csv('../Data/Original/teamfights_players.csv')\n",
    "\n",
    "# teamfights timings\n",
    "tf = pd.read_csv('../Data/Original/teamfights.csv')\n",
    "\n",
    "# player info for each minute\n",
    "player_time = pd.read_csv('../Data/Original/player_time.csv')\n",
    "\n",
    "# chat data\n",
    "chat = pd.read_csv('../Data/Original/chat.csv')\n",
    "\n",
    "# player ratings\n",
    "player_ratings = pd.read_csv('../Data/Original/player_ratings.csv')\n",
    "\n",
    "# player info for the match\n",
    "player = pd.read_csv('../Data/Original/players.csv')\n",
    "\n",
    "# match information\n",
    "match = pd.read_csv('../Data/Original/match.csv')\n",
    "\n",
    "# account id info  \n",
    "match_outcomes = pd.read_csv('../Data/Original/match_outcomes.csv')"
   ]
  },
  {
   "cell_type": "markdown",
   "id": "09611045-5dd4-40bd-a15d-4323faae08d3",
   "metadata": {},
   "source": [
    "### Information about matches"
   ]
  },
  {
   "cell_type": "markdown",
   "id": "f15917a4-f8de-48f9-be7d-6da1a871413d",
   "metadata": {},
   "source": [
    "Let's depict the histogram for the duration of matches "
   ]
  },
  {
   "cell_type": "code",
   "execution_count": 4,
   "id": "aba679ba-8618-4b16-8a15-ad008ad7ca52",
   "metadata": {},
   "outputs": [],
   "source": [
    "match['duration_min'] = match['duration']/60 "
   ]
  },
  {
   "cell_type": "code",
   "execution_count": 5,
   "id": "852fda33-0127-498d-89fa-272738257797",
   "metadata": {},
   "outputs": [
    {
     "data": {
      "image/png": "[encoded data removed]",
      "text/plain": [
       "<Figure size 504x360 with 1 Axes>"
      ]
     },
     "metadata": {},
     "output_type": "display_data"
    }
   ],
   "source": [
    "import seaborn as sns\n",
    "import matplotlib.pyplot as plt\n",
    "\n",
    "sns.set(rc={\"figure.figsize\":(7, 5)})\n",
    "fig, ax = plt.subplots()\n",
    "sns.histplot(match.duration_min).set_title('Duration of the matches in minutes')\n",
    "ax.set_xlim(0,100)\n",
    "#ax.set_xticks(range(0,100))\n",
    "plt.show()"
   ]
  },
  {
   "cell_type": "markdown",
   "id": "220f08f2-4fb5-4bd5-8e20-2bc480c6dca6",
   "metadata": {},
   "source": [
    "As we can see, the duration of a match ranges from 30 to 50 minutes "
   ]
  },
  {
   "cell_type": "code",
   "execution_count": 6,
   "id": "42c2a096-d3cb-402a-9178-7b14ac0cfb1e",
   "metadata": {},
   "outputs": [
    {
     "data": {
      "image/png": "[encoded data removed]",
      "text/plain": [
       "<Figure size 504x360 with 1 Axes>"
      ]
     },
     "metadata": {},
     "output_type": "display_data"
    }
   ],
   "source": [
    "groupedvalues=match.groupby(['radiant_win']).size().reset_index(name='counts')\n",
    "\n",
    "pal = sns.color_palette(\"Blues_d\", len(groupedvalues))\n",
    "rank = groupedvalues[\"counts\"].argsort().argsort() \n",
    "g=sns.barplot(x='radiant_win',y='counts',data=groupedvalues, palette=np.array(pal[::-1])[rank])\n",
    "g.set_title('# of wins by each team')\n",
    "for index, row in groupedvalues.iterrows():\n",
    "    g.text(row.name, row.counts, round(row.counts,2), color='black', ha=\"center\")"
   ]
  },
  {
   "cell_type": "markdown",
   "id": "f1a413ab-53c7-47b0-8a07-f1033f05cb10",
   "metadata": {},
   "source": [
    "Out of 50,000 matches, the probability of winning is almost 50%"
   ]
  },
  {
   "cell_type": "markdown",
   "id": "f1ffcab5-50fc-47c6-96fd-aa30f77074de",
   "metadata": {},
   "source": [
    "### Information about chat messages"
   ]
  },
  {
   "cell_type": "code",
   "execution_count": 7,
   "id": "2492bf76-d30d-4e11-9831-f8ed92191354",
   "metadata": {},
   "outputs": [
    {
     "data": {
      "image/png": "[encoded data removed]",
      "text/plain": [
       "<Figure size 504x360 with 1 Axes>"
      ]
     },
     "metadata": {},
     "output_type": "display_data"
    }
   ],
   "source": [
    "grouped_chat = chat.groupby(['match_id']).size().reset_index(name='counts')\n",
    "\n",
    "fig, ax = plt.subplots()\n",
    "sns.histplot(chat.groupby(['match_id']).size().reset_index(name='counts').counts).set_title('Count of messages per game')\n",
    "ax.set_xlim(0,200)\n",
    "#ax.set_xticks(range(0,100))\n",
    "plt.show()"
   ]
  },
  {
   "cell_type": "code",
   "execution_count": 8,
   "id": "6178193a-e1d9-45f8-8a76-edb7cf9f3f3e",
   "metadata": {},
   "outputs": [
    {
     "data": {
      "text/plain": [
       "count    49772.000000\n",
       "mean        28.921643\n",
       "std         27.334633\n",
       "min          1.000000\n",
       "25%         12.000000\n",
       "50%         21.000000\n",
       "75%         37.000000\n",
       "max        449.000000\n",
       "Name: counts, dtype: float64"
      ]
     },
     "execution_count": 8,
     "metadata": {},
     "output_type": "execute_result"
    }
   ],
   "source": [
    "chat.groupby(['match_id']).size().reset_index(name='counts').counts.describe()"
   ]
  },
  {
   "cell_type": "markdown",
   "id": "17519e25-fcf2-434a-b7d9-546bd3c7281d",
   "metadata": {},
   "source": [
    "About 1000 games have no messages. On average, there are 29 messages per game."
   ]
  },
  {
   "cell_type": "code",
   "execution_count": 9,
   "id": "a62b0d9f-6a9f-40f2-ba68-5cdc66360ad6",
   "metadata": {},
   "outputs": [
    {
     "data": {
      "image/png": "[encoded data removed]",
      "text/plain": [
       "<Figure size 504x360 with 1 Axes>"
      ]
     },
     "metadata": {},
     "output_type": "display_data"
    }
   ],
   "source": [
    "grouped_chat = chat.groupby(['match_id','slot']).size().reset_index(name='counts')\n",
    "fig, ax = plt.subplots()\n",
    "sns.histplot(grouped_chat.groupby('match_id').slot.nunique()).set_title('# of players who wrote per game')\n",
    "ax.set_xticks(range(0,11))\n",
    "plt.show()"
   ]
  },
  {
   "cell_type": "markdown",
   "id": "f16d3c39-ebc2-4482-8ae5-89346d5cafc8",
   "metadata": {},
   "source": [
    "In about 88% of the games, there are 4+ players who text something in game chats."
   ]
  },
  {
   "cell_type": "code",
   "execution_count": 10,
   "id": "b6c287be-28a9-4565-a9c2-c3fb26710303",
   "metadata": {},
   "outputs": [
    {
     "data": {
      "image/png": "[encoded data removed]",
      "text/plain": [
       "<Figure size 504x360 with 1 Axes>"
      ]
     },
     "metadata": {},
     "output_type": "display_data"
    }
   ],
   "source": [
    "chat['n_words'] = chat['key'].str.split().str.len()\n",
    "fig, ax = plt.subplots()\n",
    "sns.histplot(chat.groupby(['match_id']).n_words.mean()).set_title('# of words per message')\n",
    "ax.set_xlim(1,8)\n",
    "plt.show()"
   ]
  },
  {
   "cell_type": "markdown",
   "id": "75595a45-0c8d-4619-a198-1fdc0db32cea",
   "metadata": {},
   "source": [
    "On average, there are 1.5-2.5 words per message"
   ]
  },
  {
   "cell_type": "markdown",
   "id": "9c48057f-5920-4c8b-883d-5668dd30b5a6",
   "metadata": {},
   "source": [
    "### Information about chat messages after preprocessing\n",
    "Let's do the preprocessing and analyze how the situation changes"
   ]
  },
  {
   "cell_type": "code",
   "execution_count": 11,
   "id": "859cbe60-242e-4749-8043-01a1ec9cd6ca",
   "metadata": {},
   "outputs": [],
   "source": [
    "import os\n",
    "import re\n",
    "import nltk\n",
    "import string\n",
    "\n",
    "from sklearn.feature_extraction.text import TfidfVectorizer\n",
    "from nltk.corpus import stopwords\n",
    "from nltk.tokenize import word_tokenize\n",
    "from nltk.stem import WordNetLemmatizer, LancasterStemmer \n",
    "\n",
    "from sklearn.naive_bayes import BernoulliNB\n",
    "from sklearn.linear_model import LinearRegression, Ridge, Lasso\n",
    "from sklearn.linear_model import LogisticRegression\n",
    "from sklearn.tree import DecisionTreeClassifier\n",
    "from sklearn.neighbors import KNeighborsClassifier\n",
    "from sklearn.metrics import classification_report\n",
    "from sklearn.svm import LinearSVC\n",
    "\n",
    "import warnings\n",
    "warnings.filterwarnings(\"ignore\")"
   ]
  },
  {
   "cell_type": "code",
   "execution_count": 12,
   "id": "15b9a2c3-236f-4abf-8bb9-599c7110b8a8",
   "metadata": {},
   "outputs": [],
   "source": [
    "# load the stopword list provided by the NLTK library\n",
    "stop_words = stopwords.words('english')"
   ]
  },
  {
   "cell_type": "code",
   "execution_count": 13,
   "id": "94dd4fd5-b0c7-4f9f-b793-e46a37b83a36",
   "metadata": {},
   "outputs": [],
   "source": [
    "def preprocessing_text(text):\n",
    "    text = re.sub(r'[^A-Za-z0-9 ]+', ' ', text) #remove all non‐alphanumeric characters except white space\n",
    "    text = re.sub(\"(.)\\\\1{2,}\", \"\\\\1\", text) #replace 3+ consecutive letters to 1 (loooovvvve -> love)\n",
    "    text = re.sub(r'([a-z0-9+._-]+@[a-z0-9+._-]+\\.[a-z0-9+_-]+)',\"\", text) # remove emails\n",
    "    text = re.sub(r'(http|https|ftp|ssh)://([\\w_-]+(?:(?:\\.[\\w_-]+)+))([\\w.,@?^=%&:/~+#-]*[\\w@?^=%&/~+#-])?', '' , text) # remove urls\n",
    "    words = word_tokenize(text.lower())\n",
    "    tokens = [word for word in words if word not in stop_words]\n",
    "    tokens = [token for token in tokens if not any(c.isdigit() for c in token)] #remove everything containing digits\n",
    "    lemmatizer = WordNetLemmatizer()\n",
    "    tokens_lematized = [lemmatizer.lemmatize(word) for word in tokens]\n",
    "    tokens_lematized = [word for word in tokens_lematized if word not in stop_words]    \n",
    "    preprocessed_text = ' '.join(tokens_lematized)\n",
    "    return preprocessed_text"
   ]
  },
  {
   "cell_type": "raw",
   "id": "1e9b407e-f317-4439-9e10-42bddbb08fa8",
   "metadata": {},
   "source": [
    "%%time\n",
    "chat['text_prepr'] = chat['key'].apply(lambda x: preprocessing_text(str(x)))"
   ]
  },
  {
   "cell_type": "raw",
   "id": "8ecd7295-f924-437d-9e68-4c2714e0a613",
   "metadata": {},
   "source": [
    "# save chat to csv\n",
    "chat.to_csv('../Data/Modified/chat_preprocessed.csv')"
   ]
  },
  {
   "cell_type": "code",
   "execution_count": 14,
   "id": "39f0ff6d-31ae-4347-81b6-551fb552e55f",
   "metadata": {},
   "outputs": [],
   "source": [
    "chat = pd.read_csv('../Data/Modified/chat_preprocessed.csv', index_col=0)"
   ]
  },
  {
   "cell_type": "markdown",
   "id": "aded2af5-39d4-4af5-9a30-7e22d5dc56d6",
   "metadata": {},
   "source": [
    "Create chat2, which removes rows with empty messages. E.g. if someone text \"200\", by preprocessing it will become empty. That's why I get rid of this row"
   ]
  },
  {
   "cell_type": "code",
   "execution_count": 15,
   "id": "63f4e749-0bb7-4c79-863b-5dc1ed7d985a",
   "metadata": {},
   "outputs": [
    {
     "data": {
      "text/html": [
       "<div>\n",
       "<style scoped>\n",
       "    .dataframe tbody tr th:only-of-type {\n",
       "        vertical-align: middle;\n",
       "    }\n",
       "\n",
       "    .dataframe tbody tr th {\n",
       "        vertical-align: top;\n",
       "    }\n",
       "\n",
       "    .dataframe thead th {\n",
       "        text-align: right;\n",
       "    }\n",
       "</style>\n",
       "<table border=\"1\" class=\"dataframe\">\n",
       "  <thead>\n",
       "    <tr style=\"text-align: right;\">\n",
       "      <th></th>\n",
       "      <th>match_id</th>\n",
       "      <th>key</th>\n",
       "      <th>slot</th>\n",
       "      <th>time</th>\n",
       "      <th>unit</th>\n",
       "      <th>n_words</th>\n",
       "      <th>text_prepr</th>\n",
       "    </tr>\n",
       "  </thead>\n",
       "  <tbody>\n",
       "    <tr>\n",
       "      <th>0</th>\n",
       "      <td>0</td>\n",
       "      <td>force it</td>\n",
       "      <td>6</td>\n",
       "      <td>-8</td>\n",
       "      <td>6k Slayer</td>\n",
       "      <td>2.0</td>\n",
       "      <td>force</td>\n",
       "    </tr>\n",
       "    <tr>\n",
       "      <th>1</th>\n",
       "      <td>0</td>\n",
       "      <td>space created</td>\n",
       "      <td>1</td>\n",
       "      <td>5</td>\n",
       "      <td>Monkey</td>\n",
       "      <td>2.0</td>\n",
       "      <td>space created</td>\n",
       "    </tr>\n",
       "    <tr>\n",
       "      <th>2</th>\n",
       "      <td>0</td>\n",
       "      <td>hah</td>\n",
       "      <td>1</td>\n",
       "      <td>6</td>\n",
       "      <td>Monkey</td>\n",
       "      <td>1.0</td>\n",
       "      <td>hah</td>\n",
       "    </tr>\n",
       "    <tr>\n",
       "      <th>3</th>\n",
       "      <td>0</td>\n",
       "      <td>ez 500</td>\n",
       "      <td>6</td>\n",
       "      <td>9</td>\n",
       "      <td>6k Slayer</td>\n",
       "      <td>2.0</td>\n",
       "      <td>ez</td>\n",
       "    </tr>\n",
       "    <tr>\n",
       "      <th>4</th>\n",
       "      <td>0</td>\n",
       "      <td>mvp ulti</td>\n",
       "      <td>4</td>\n",
       "      <td>934</td>\n",
       "      <td>Kira</td>\n",
       "      <td>2.0</td>\n",
       "      <td>mvp ulti</td>\n",
       "    </tr>\n",
       "  </tbody>\n",
       "</table>\n",
       "</div>"
      ],
      "text/plain": [
       "   match_id            key  slot  time       unit  n_words     text_prepr\n",
       "0         0       force it     6    -8  6k Slayer      2.0          force\n",
       "1         0  space created     1     5     Monkey      2.0  space created\n",
       "2         0            hah     1     6     Monkey      1.0            hah\n",
       "3         0         ez 500     6     9  6k Slayer      2.0             ez\n",
       "4         0       mvp ulti     4   934       Kira      2.0       mvp ulti"
      ]
     },
     "execution_count": 15,
     "metadata": {},
     "output_type": "execute_result"
    }
   ],
   "source": [
    "chat2 = chat[chat.text_prepr != \"\"]\n",
    "chat2.head()"
   ]
  },
  {
   "cell_type": "markdown",
   "id": "ac9c8773-91f4-4fee-ac0e-d6d65eee9ed5",
   "metadata": {},
   "source": [
    "I got rid of 15% of messages"
   ]
  },
  {
   "cell_type": "code",
   "execution_count": 16,
   "id": "2fa9e469-9dec-4edd-83be-e91d244888a0",
   "metadata": {},
   "outputs": [
    {
     "data": {
      "image/png": "[encoded data removed]",
      "text/plain": [
       "<Figure size 504x360 with 1 Axes>"
      ]
     },
     "metadata": {},
     "output_type": "display_data"
    }
   ],
   "source": [
    "fig, ax = plt.subplots()\n",
    "sns.histplot(chat2.groupby(['match_id']).text_prepr.size().reset_index(name='counts').counts).set_title('Count of messages per game')\n",
    "ax.set_xlim(0,200)\n",
    "#ax.set_xticks(range(0,100))\n",
    "plt.show()"
   ]
  },
  {
   "cell_type": "code",
   "execution_count": 17,
   "id": "8991c8ca-675e-4377-9ba7-548bdec1eb7e",
   "metadata": {},
   "outputs": [
    {
     "data": {
      "text/plain": [
       "count    49772.000000\n",
       "mean        28.921643\n",
       "std         27.334633\n",
       "min          1.000000\n",
       "25%         12.000000\n",
       "50%         21.000000\n",
       "75%         37.000000\n",
       "max        449.000000\n",
       "Name: counts, dtype: float64"
      ]
     },
     "execution_count": 17,
     "metadata": {},
     "output_type": "execute_result"
    }
   ],
   "source": [
    "chat2.groupby(['match_id']).size().reset_index(name='counts').counts.describe()"
   ]
  },
  {
   "cell_type": "markdown",
   "id": "211ba5b5-8f90-4a69-9aa2-2902f19d91b4",
   "metadata": {},
   "source": [
    "About 1700 games have no messages now. On average, there are 25 messages per game."
   ]
  },
  {
   "cell_type": "code",
   "execution_count": 18,
   "id": "69f98ae4-93be-409b-8d7a-fdc058d8c2e8",
   "metadata": {},
   "outputs": [
    {
     "data": {
      "image/png": "[encoded data removed]",
      "text/plain": [
       "<Figure size 504x360 with 1 Axes>"
      ]
     },
     "metadata": {},
     "output_type": "display_data"
    }
   ],
   "source": [
    "grouped_chat2 = chat2.groupby(['match_id','slot']).size().reset_index(name='counts')\n",
    "fig, ax = plt.subplots()\n",
    "sns.histplot(grouped_chat2.groupby('match_id').slot.nunique()).set_title('# of players who wrote per game')\n",
    "ax.set_xticks(range(0,11))\n",
    "plt.show()"
   ]
  },
  {
   "cell_type": "code",
   "execution_count": 19,
   "id": "1eb8354b-f649-476a-a27e-860c249a7a00",
   "metadata": {},
   "outputs": [
    {
     "data": {
      "image/png": "[encoded data removed]",
      "text/plain": [
       "<Figure size 504x360 with 1 Axes>"
      ]
     },
     "metadata": {},
     "output_type": "display_data"
    }
   ],
   "source": [
    "fig, ax = plt.subplots()\n",
    "sns.histplot(grouped_chat2.groupby('match_id').slot.nunique(),stat= 'percent').set_title('# of players who wrote per game')\n",
    "ax.set_xticks(range(0,11))\n",
    "plt.show()"
   ]
  },
  {
   "cell_type": "markdown",
   "id": "7c141e30-4ada-4a48-9a04-ea9e386b3eff",
   "metadata": {},
   "source": [
    "In about 80% of the games, there are 4+ players who text something in game chats."
   ]
  },
  {
   "cell_type": "code",
   "execution_count": 20,
   "id": "a774cc4c-6343-4620-b6d9-dbe13edb580f",
   "metadata": {},
   "outputs": [
    {
     "data": {
      "image/png": "[encoded data removed]",
      "text/plain": [
       "<Figure size 504x360 with 1 Axes>"
      ]
     },
     "metadata": {},
     "output_type": "display_data"
    }
   ],
   "source": [
    "chat2['n_words'] = chat2['key'].str.split().str.len()\n",
    "fig, ax = plt.subplots()\n",
    "sns.histplot(chat2.groupby(['match_id']).n_words.mean()).set_title('# of words per message')\n",
    "ax.set_xlim(1,8)\n",
    "plt.show()"
   ]
  },
  {
   "cell_type": "code",
   "execution_count": 21,
   "id": "ae42714f-c4f8-4831-9d4b-8e6358db6298",
   "metadata": {},
   "outputs": [
    {
     "data": {
      "text/plain": [
       "count    49772.000000\n",
       "mean         2.219545\n",
       "std          0.693235\n",
       "min          0.916667\n",
       "25%          1.739130\n",
       "50%          2.142857\n",
       "75%          2.607143\n",
       "max         12.535211\n",
       "Name: n_words, dtype: float64"
      ]
     },
     "execution_count": 21,
     "metadata": {},
     "output_type": "execute_result"
    }
   ],
   "source": [
    "chat2.groupby(['match_id']).n_words.mean().describe()"
   ]
  },
  {
   "cell_type": "markdown",
   "id": "29a2ca6a-8666-4572-b53a-9527a0c5d6e9",
   "metadata": {},
   "source": [
    "### Split data by the first and second half\n",
    "First, add the total duration of a match to chat df"
   ]
  },
  {
   "cell_type": "code",
   "execution_count": 22,
   "id": "816db072-c1a4-4bb2-badf-c7baca911b69",
   "metadata": {},
   "outputs": [],
   "source": [
    "chat2 = chat2.merge(match[['match_id', 'duration']], on='match_id', how='left')\n",
    "\n",
    "# create a column dummy which identifies whether the message was sent in the first half\n",
    "chat2['first_half'] = chat2['time']/chat2['duration']\n",
    "chat2['first_half'] = np.where(chat2['first_half']< 0.5, 1, 0)\n",
    "\n",
    "chat2 = chat2.astype({\"text_prepr\": str})\n",
    "\n",
    "# combine all messages into one string \n",
    "chat2 = chat2.groupby(['match_id', 'first_half', 'slot'])['text_prepr'].apply(' '.join).reset_index()"
   ]
  },
  {
   "cell_type": "markdown",
   "id": "d17c0196-ac5f-4a70-a30f-fdb40718ca77",
   "metadata": {
    "tags": []
   },
   "source": [
    "# Cleaning data\n",
    "Above was the overview of the whole data.\n",
    "\n",
    "Let us do the cleaning of the games.\n",
    "\n",
    "I want to remove some observations based on the following \n",
    "* leaver status = 0\n",
    "* region is not english speaking\n",
    "* no one wrote anything in the game"
   ]
  },
  {
   "cell_type": "markdown",
   "id": "03787b2d-47d5-4502-81de-7d230328b2eb",
   "metadata": {},
   "source": [
    "## Get rid of games where at least one of the player left the game"
   ]
  },
  {
   "cell_type": "code",
   "execution_count": 26,
   "id": "eeec4319-1158-4109-a8cc-009654ba6dc2",
   "metadata": {},
   "outputs": [
    {
     "data": {
      "text/plain": [
       "is_leaver_radiant  radiant_win\n",
       "0                  False           85\n",
       "                   True           192\n",
       "1                  False          184\n",
       "                   True            74\n",
       "dtype: int64"
      ]
     },
     "execution_count": 26,
     "metadata": {},
     "output_type": "execute_result"
    }
   ],
   "source": [
    "leavers_df1 = pd.DataFrame(player[player['leaver_status']==4][['match_id','player_slot']])\n",
    "#leavers_df1['left'] = 1\n",
    "leavers_df1['is_leaver_radiant'] = np.where(leavers_df1.player_slot<7, 1, 0)\n",
    "leavers_df1 = pd.merge(leavers_df1, match[['match_id','radiant_win']],  how='left', left_on=['match_id'], right_on = ['match_id'])\n",
    "\n",
    "leavers_df1.groupby(['is_leaver_radiant', 'radiant_win']).size()"
   ]
  },
  {
   "cell_type": "code",
   "execution_count": 27,
   "id": "358c0ac9-b1b2-4679-9c15-830b0c8052b1",
   "metadata": {},
   "outputs": [],
   "source": [
    "# list of match_ids where player left the game\n",
    "leavers_df = pd.DataFrame(player[player['leaver_status']==4].match_id)\n",
    "leavers_df['left'] = 1"
   ]
  },
  {
   "cell_type": "code",
   "execution_count": 28,
   "id": "e4568417-f426-40ed-bbe3-097a7185199f",
   "metadata": {},
   "outputs": [],
   "source": [
    "match = pd.merge(match, leavers_df,  how='left', left_on=['match_id'], right_on = ['match_id'])"
   ]
  },
  {
   "cell_type": "code",
   "execution_count": 29,
   "id": "0690e93b-bf92-47c6-9b45-5e9542601f20",
   "metadata": {},
   "outputs": [],
   "source": [
    "match_leavers = match[match['left']==1]\n",
    "match = match[match['left']!=1]\n",
    "match.drop(['left'], axis=1, inplace = True)"
   ]
  },
  {
   "cell_type": "markdown",
   "id": "9960a05e-d949-481c-af53-55077be13bda",
   "metadata": {},
   "source": [
    "We get rid of 535 games (about 1%) where players left the game. Let's compare the duration of those games and move to the next cleaning stage "
   ]
  },
  {
   "cell_type": "code",
   "execution_count": 30,
   "id": "08d62b14-8206-4d1d-8d2f-583ad4f3c71b",
   "metadata": {},
   "outputs": [
    {
     "data": {
      "image/png": "[encoded data removed]",
      "text/plain": [
       "<Figure size 504x360 with 1 Axes>"
      ]
     },
     "metadata": {},
     "output_type": "display_data"
    }
   ],
   "source": [
    "sns.set(rc={\"figure.figsize\":(7, 5)})\n",
    "fig, ax = plt.subplots()\n",
    "sns.histplot(match.duration_min).set_title('Duration of the matches in minutes (without leavers)')\n",
    "#ax.set_xlim(0,20)\n",
    "#ax.set_xticks(range(0,100))\n",
    "plt.show()"
   ]
  },
  {
   "cell_type": "code",
   "execution_count": 31,
   "id": "bd24de1b-3100-49c1-9e68-fa7afe18cde3",
   "metadata": {},
   "outputs": [
    {
     "data": {
      "image/png": "[encoded data removed]",
      "text/plain": [
       "<Figure size 504x360 with 1 Axes>"
      ]
     },
     "metadata": {},
     "output_type": "display_data"
    }
   ],
   "source": [
    "sns.set(rc={\"figure.figsize\":(7, 5)})\n",
    "fig, ax = plt.subplots()\n",
    "sns.histplot(match_leavers.duration_min).set_title('Duration of the matches in minutes (only leavers)')\n",
    "#ax.set_xlim(0,20)\n",
    "#ax.set_xticks(range(0,100))\n",
    "plt.show()"
   ]
  },
  {
   "cell_type": "markdown",
   "id": "58e9999b-1f73-4e85-ae67-062b3dc2951f",
   "metadata": {},
   "source": [
    "## Get rid of games with no messages"
   ]
  },
  {
   "cell_type": "code",
   "execution_count": 32,
   "id": "626a34a1-3a10-4eb0-ab1b-5854cfbae819",
   "metadata": {},
   "outputs": [],
   "source": [
    "grouped_chat = chat.groupby(['match_id']).size().reset_index(name='counts')\n",
    "grouped_chat['with_messages'] = 1\n",
    "\n",
    "match = pd.merge(match, grouped_chat,  how='left', left_on=['match_id'], right_on = ['match_id'])\n",
    "\n",
    "match = match[match['with_messages']==1]\n",
    "match.drop(['with_messages'], axis=1, inplace = True)"
   ]
  },
  {
   "cell_type": "markdown",
   "id": "8c98b090-a437-4560-9895-bb8f6c988818",
   "metadata": {},
   "source": [
    "We got rid of extra 225 games which contained no messages."
   ]
  },
  {
   "cell_type": "markdown",
   "id": "679ed441-d787-4497-a6c7-2f8dbfe2994a",
   "metadata": {
    "tags": []
   },
   "source": [
    "## Get rid of games from non English speaking servers"
   ]
  },
  {
   "cell_type": "code",
   "execution_count": 35,
   "id": "2431428e-821f-4543-a9ce-ea642d56e384",
   "metadata": {},
   "outputs": [],
   "source": [
    "# read cluster data \n",
    "cluster = pd.read_csv('../Data/Original/cluster_regions.csv')\n",
    "\n",
    "# merge with match data\n",
    "match = pd.merge(match, cluster,  how='left', left_on=['cluster'], right_on = ['cluster'])\n",
    "match.groupby(['region']).region.count()"
   ]
  },
  {
   "cell_type": "code",
   "execution_count": 36,
   "id": "4b33878a-a877-4602-8a84-fb3506218626",
   "metadata": {},
   "outputs": [],
   "source": [
    "chat = pd.merge(chat, match[['match_id','region']],  how='left', left_on=['match_id'], right_on = ['match_id'])"
   ]
  },
  {
   "cell_type": "markdown",
   "id": "649cf219-e788-4a3e-b845-10e9ac248c3d",
   "metadata": {},
   "source": [
    "Get rid of empty messages and messages with spaces"
   ]
  },
  {
   "cell_type": "code",
   "execution_count": 39,
   "id": "071c1541-9326-41f3-98c9-6a5491a76dfc",
   "metadata": {},
   "outputs": [],
   "source": [
    "def is_blank_mask(df, column):\n",
    "    return df[column].astype(str).str.fullmatch(r\"\\s*\")\n",
    "\n",
    "chat['onlyspaces'] = np.where(is_blank_mask(chat, 'text_prepr'),\n",
    "                            1,\n",
    "                            0)\n",
    "\n",
    "chat = chat[chat.onlyspaces==0]\n",
    "chat.drop(['onlyspaces'], axis=1, inplace = True)"
   ]
  },
  {
   "cell_type": "code",
   "execution_count": 42,
   "id": "6f56b872-7e66-4f86-a5dc-dfa64b558483",
   "metadata": {},
   "outputs": [],
   "source": [
    "def detection(text):\n",
    "    try:\n",
    "        return detect(text)\n",
    "    except:\n",
    "        return 'NA'"
   ]
  },
  {
   "cell_type": "code",
   "execution_count": 43,
   "id": "91e555b0-2e33-45f3-b9fd-d64658f72f85",
   "metadata": {},
   "outputs": [
    {
     "data": {
      "text/plain": [
       "array(['SINGAPORE', 'EUROPE', 'AUSTRIA', 'STOCKHOLM', 'US EAST',\n",
       "       'US WEST', nan, 'BRAZIL', 'PW TELECOM GUANGDONG',\n",
       "       'PW TELECOM SHANGHAI', 'AUSTRALIA', 'PW TELECOM ZHEJIANG', 'JAPAN',\n",
       "       'CHILE', 'PW UNICOM', 'DUBAI'], dtype=object)"
      ]
     },
     "execution_count": 43,
     "metadata": {},
     "output_type": "execute_result"
    }
   ],
   "source": [
    "chat.region.unique()"
   ]
  },
  {
   "cell_type": "markdown",
   "id": "4565677d-0922-4b55-9526-8aa3c5449d69",
   "metadata": {},
   "source": [
    "Eye inspection allowed me to identify 'STOCKHOLM', 'BRAZIL', 'PW TELECOM ZHEJIANG', 'PW TELECOM SHANGHAI', 'PW TELECOM GUANGDONG', 'CHILE', 'PW UNICOM', 'DUBAI' to have many non EN words. That is why I get rid of those messages"
   ]
  },
  {
   "cell_type": "code",
   "execution_count": 44,
   "id": "e502fe01-d05b-4f7c-8515-712a147d1226",
   "metadata": {},
   "outputs": [],
   "source": [
    "regions_drop = ['STOCKHOLM', 'BRAZIL', 'PW TELECOM ZHEJIANG', 'PW TELECOM SHANGHAI', 'PW TELECOM GUANGDONG', 'CHILE', 'PW UNICOM', 'DUBAI']\n",
    "\n",
    "for region in regions_drop:\n",
    "    chat = chat[chat['region'] != region]"
   ]
  },
  {
   "cell_type": "raw",
   "id": "33109046-3435-485a-a337-aed683945d03",
   "metadata": {
    "tags": []
   },
   "source": [
    "%%time\n",
    "\n",
    "from langdetect import detect, DetectorFactory\n",
    "chat['lang'] = chat['key'].apply(lambda x: detection(x))"
   ]
  },
  {
   "cell_type": "markdown",
   "id": "4cbe559e-28bd-4c07-adf3-2c3d733d985f",
   "metadata": {
    "tags": []
   },
   "source": [
    "# Predict toxicity"
   ]
  },
  {
   "cell_type": "code",
   "execution_count": 45,
   "id": "ee9aec1c-92dc-4831-8562-445df80e6cb7",
   "metadata": {},
   "outputs": [],
   "source": [
    "import pickle\n",
    "# load model\n",
    "model = pickle.load(open('./toxic_classifier/log_model.pkl', 'rb'))\n",
    "\n",
    "with open(\"./toxic_classifier/comment_data.pkl\", \"rb\") as fp:   # Unpickling\n",
    "    df = pickle.load(fp)\n",
    "\n",
    "# initialize vectorizer\n",
    "vectorizer = TfidfVectorizer() \n",
    "tfidf = vectorizer.fit_transform(df.comment_text)\n",
    "\n",
    "# define a function that gets prediction\n",
    "def get_pred(s):\n",
    "    x = []\n",
    "    x.append(s)\n",
    "   # x[0] = preprocessing_text(x[0])\n",
    "    vec = vectorizer.transform(x)\n",
    "    label = model.predict(vec)[0]\n",
    "    return label"
   ]
  },
  {
   "cell_type": "raw",
   "id": "ea63bbc2-a907-424e-b5fa-5cd5a4232cf0",
   "metadata": {},
   "source": [
    "# get predictions for each message (takes around 2 hrs)\n",
    "%%time\n",
    "chat['toxic'] = chat['text_prepr'].apply(lambda x: get_pred(x))"
   ]
  },
  {
   "cell_type": "raw",
   "id": "90ef38ab-333d-4532-b5e6-81cd8af13950",
   "metadata": {},
   "source": [
    "# save chat to csv\n",
    "chat.to_csv('../Data/Modified/chat_pred_all_separate.csv')"
   ]
  },
  {
   "cell_type": "code",
   "execution_count": 52,
   "id": "18262afc-2306-42d4-a06e-25d03685cd73",
   "metadata": {},
   "outputs": [],
   "source": [
    "chat = pd.read_csv('../Data/Modified/chat_pred_all_separate.csv', index_col=0)"
   ]
  },
  {
   "cell_type": "code",
   "execution_count": 53,
   "id": "4ec372c2-75d7-4033-9022-16b6e0d905ee",
   "metadata": {},
   "outputs": [
    {
     "data": {
      "text/plain": [
       "toxic\n",
       "0    1054562\n",
       "1      87967\n",
       "Name: region, dtype: int64"
      ]
     },
     "execution_count": 53,
     "metadata": {},
     "output_type": "execute_result"
    }
   ],
   "source": [
    "chat.groupby(['toxic']).region.count()"
   ]
  },
  {
   "cell_type": "markdown",
   "id": "caa52302-359a-44b9-95ac-6319571d6dd1",
   "metadata": {},
   "source": [
    "About 8% of messages are toxic"
   ]
  },
  {
   "cell_type": "code",
   "execution_count": 54,
   "id": "dfe8bac9-a893-4390-8d8c-c3acfe2b574d",
   "metadata": {},
   "outputs": [],
   "source": [
    "#chat2.to_csv('../Data/Modified/chat_half_pred.csv')"
   ]
  },
  {
   "cell_type": "code",
   "execution_count": 56,
   "id": "57c5e225-ef84-4c1d-97d6-eedc64869a85",
   "metadata": {},
   "outputs": [],
   "source": [
    "chat = chat.merge(match[['match_id', 'duration']], on='match_id', how='left')\n",
    "\n",
    "# create a column dummy which identifies whether the message was sent in the first half\n",
    "chat['first_half'] = chat['time']/chat['duration']\n",
    "chat['first_half'] = np.where(chat['first_half']< 0.5, 1, 0)"
   ]
  },
  {
   "cell_type": "code",
   "execution_count": 57,
   "id": "da6fb2c4-4675-4917-bfb1-31e949205df9",
   "metadata": {},
   "outputs": [
    {
     "data": {
      "text/plain": [
       "first_half  toxic\n",
       "0           0        785014\n",
       "            1         61492\n",
       "1           0        283946\n",
       "            1         27712\n",
       "Name: toxic, dtype: int64"
      ]
     },
     "execution_count": 57,
     "metadata": {},
     "output_type": "execute_result"
    }
   ],
   "source": [
    "chat.groupby(['first_half', 'toxic']).toxic.count()"
   ]
  },
  {
   "cell_type": "markdown",
   "id": "64757a55-89e5-480d-a5b1-70788774365c",
   "metadata": {},
   "source": [
    "If considering only the first half of the game, 15,890 out of 232,603 players are being toxic, that is about 7% of the time."
   ]
  },
  {
   "cell_type": "code",
   "execution_count": 58,
   "id": "68ca8b1a-2602-4b82-b525-93f899e151e4",
   "metadata": {},
   "outputs": [
    {
     "data": {
      "text/plain": [
       "region\n",
       "AUSTRALIA     77307\n",
       "AUSTRIA       42711\n",
       "EUROPE       370526\n",
       "JAPAN          2997\n",
       "SINGAPORE    242751\n",
       "US EAST      297690\n",
       "US WEST      108547\n",
       "Name: match_id, dtype: int64"
      ]
     },
     "execution_count": 58,
     "metadata": {},
     "output_type": "execute_result"
    }
   ],
   "source": [
    "chat.groupby(['region']).match_id.count()"
   ]
  },
  {
   "cell_type": "markdown",
   "id": "1de3a5bf-fb41-4721-9f6b-7767cbeaa6f7",
   "metadata": {
    "tags": []
   },
   "source": [
    "## Generating variables of interest"
   ]
  },
  {
   "cell_type": "code",
   "execution_count": 60,
   "id": "d1d98aa0-4a0b-44fb-93e6-22f3ec302214",
   "metadata": {},
   "outputs": [],
   "source": [
    "chat = chat[chat.first_half==1]\n",
    "chat['total_messages'] = chat.groupby(['match_id','slot']).first_half.transform('sum')\n",
    "# chat['toxic_messages'] = chat.groupby(['match_id','slot', 'toxic']).first_half.transform('sum')\n",
    "# chat.groupby(['match_id','slot']).key.count()\n",
    "# df.treats/df.groupby('pet').treats.transform('sum')\n",
    "\n",
    "# add number of toxic messages to the chat df\n",
    "df1 = chat.groupby(['match_id','slot', 'toxic']).first_half.count()\n",
    "df1 = pd.DataFrame(df1)\n",
    "df1.reset_index(inplace=True)\n",
    "df1 = df1[df1['toxic']==1]\n",
    "df1 = df1.rename(columns={\"first_half\": \"tox_messages\"})\n",
    "chat = chat.merge(df1[['match_id', 'slot', 'tox_messages']], on=['match_id','slot'], how='left')\n",
    "chat['tox_messages'] = chat['tox_messages'].fillna(0)\n",
    "\n",
    "# calculate toxic rate\n",
    "chat['toxic_rate'] = chat['tox_messages']/chat['total_messages']\n",
    "\n",
    "# group by players\n",
    "chat_grouped = chat.groupby(['match_id', 'slot'])['toxic_rate'].min()\n",
    "chat_grouped = pd.DataFrame(chat_grouped)\n",
    "chat_grouped.reset_index(inplace=True)\n",
    "\n",
    "# pivot\n",
    "chat_pivot = chat_grouped.pivot(index='match_id', columns='slot', values='toxic_rate')\n",
    "chat_pivot.reset_index(inplace=True)\n",
    "chat_rad = chat_pivot[['match_id',0,1,2,3,4]]\n",
    "chat_dir = chat_pivot[['match_id',5,6,7,8,9]]\n",
    "chat_rad['no_text'] = chat_rad.isnull().sum(axis=1)\n",
    "chat_rad = chat_rad.fillna(0)\n",
    "chat_rad['0toxic'] = np.where(chat_rad[0]> 0, 1, 0)\n",
    "chat_rad['1toxic'] = np.where(chat_rad[1]> 0, 1, 0)\n",
    "chat_rad['2toxic'] = np.where(chat_rad[2]> 0, 1, 0)\n",
    "chat_rad['3toxic'] = np.where(chat_rad[3]> 0, 1, 0)\n",
    "chat_rad['4toxic'] = np.where(chat_rad[4]> 0, 1, 0)\n",
    "\n",
    "# calculate n_toxic variable\n",
    "chat_rad['n_toxic'] = chat_rad['0toxic']+chat_rad['1toxic']+chat_rad['2toxic']+chat_rad['3toxic']+chat_rad['4toxic']\n",
    "\n",
    "# calculate toxic_rate variable\n",
    "chat_rad['toxic_rate'] = (chat_rad[0]+chat_rad[1]+chat_rad[2]+chat_rad[3]+chat_rad[4])/5\n",
    "chat_rad['team'] = 'radiant'\n",
    "\n",
    "# repeat the process for the second team\n",
    "chat_dir['no_text'] = chat_dir.isnull().sum(axis=1)\n",
    "chat_dir = chat_dir.fillna(0)\n",
    "chat_dir['toxic_rate'] = (chat_dir[5]+chat_dir[6]+chat_dir[7]+chat_dir[8]+chat_dir[9])/5\n",
    "chat_dir['team'] = 'dire'\n",
    "chat_dir = chat_dir.rename(columns={5: 0, 6: 1, 7: 2, 8: 3, 9: 4})\n",
    "chat_dir['0toxic'] = np.where(chat_dir[0]> 0, 1, 0)\n",
    "chat_dir['1toxic'] = np.where(chat_dir[1]> 0, 1, 0)\n",
    "chat_dir['2toxic'] = np.where(chat_dir[2]> 0, 1, 0)\n",
    "chat_dir['3toxic'] = np.where(chat_dir[3]> 0, 1, 0)\n",
    "chat_dir['4toxic'] = np.where(chat_dir[4]> 0, 1, 0)\n",
    "chat_dir['n_toxic'] = chat_dir['0toxic']+chat_dir['1toxic']+chat_dir['2toxic']+chat_dir['3toxic']+chat_dir['4toxic']\n",
    "\n",
    "# combine two teams\n",
    "frames = [chat_rad, chat_dir]\n",
    "reg_df = pd.concat(frames)\n",
    "reg_df['is_radiant'] = np.where(reg_df['team']== 'radiant', 1, 0)\n",
    "reg_df = pd.merge(reg_df, match[['match_id','radiant_win']] , how='left', left_on=['match_id'], right_on = ['match_id'])\n",
    "reg_df['win'] = np.where(reg_df['team']== 'radiant', reg_df.radiant_win, abs(reg_df.radiant_win-1))\n",
    "reg_df.drop([0,1,2,3,4,'0toxic','1toxic','2toxic','3toxic','4toxic'], axis=1, inplace = True)"
   ]
  },
  {
   "cell_type": "code",
   "execution_count": 85,
   "id": "6b04e290-d51f-40e4-b0d8-8bbc94a1e3ff",
   "metadata": {},
   "outputs": [
    {
     "name": "stdout",
     "output_type": "stream",
     "text": [
      "                            OLS Regression Results                            \n",
      "==============================================================================\n",
      "Dep. Variable:                    win   R-squared:                       0.000\n",
      "Model:                            OLS   Adj. R-squared:                  0.000\n",
      "Method:                 Least Squares   F-statistic:                     17.61\n",
      "Date:                Thu, 16 Jun 2022   Prob (F-statistic):           2.25e-08\n",
      "Time:                        17:43:22   Log-Likelihood:                -52286.\n",
      "No. Observations:               72064   AIC:                         1.046e+05\n",
      "Df Residuals:                   72061   BIC:                         1.046e+05\n",
      "Df Model:                           2                                         \n",
      "Covariance Type:                  HC3                                         \n",
      "==============================================================================\n",
      "                 coef    std err          z      P>|z|      [0.025      0.975]\n",
      "------------------------------------------------------------------------------\n",
      "Intercept      0.5374      0.007     81.739      0.000       0.525       0.550\n",
      "toxic_rate    -0.0972      0.034     -2.852      0.004      -0.164      -0.030\n",
      "no_text       -0.0100      0.002     -5.850      0.000      -0.013      -0.007\n",
      "==============================================================================\n",
      "Omnibus:                   245983.865   Durbin-Watson:                   1.999\n",
      "Prob(Omnibus):                  0.000   Jarque-Bera (JB):            11987.256\n",
      "Skew:                           0.000   Prob(JB):                         0.00\n",
      "Kurtosis:                       1.002   Cond. No.                         69.9\n",
      "==============================================================================\n",
      "\n",
      "Notes:\n",
      "[1] Standard Errors are heteroscedasticity robust (HC3)\n"
     ]
    }
   ],
   "source": [
    "import statsmodels.formula.api as smf\n",
    "\n",
    "mod = smf.ols('win ~ toxic_rate + no_text', data=reg_df)\n",
    "res = mod.fit(cov_type='HC3')\n",
    "print(res.summary())"
   ]
  },
  {
   "cell_type": "markdown",
   "id": "2cf1c8cd-3d7d-4eab-8b2a-58dad24939d4",
   "metadata": {},
   "source": [
    "# Distributions of variables"
   ]
  },
  {
   "cell_type": "code",
   "execution_count": 86,
   "id": "3983b184-88a0-46a3-8445-a10dfebd85c3",
   "metadata": {},
   "outputs": [
    {
     "data": {
      "image/png": "[encoded data removed]",
      "text/plain": [
       "<Figure size 504x360 with 1 Axes>"
      ]
     },
     "metadata": {},
     "output_type": "display_data"
    }
   ],
   "source": [
    "fig, ax = plt.subplots()\n",
    "sns.histplot(reg_df.toxic_rate, stat = 'percent').set_title('Distribution of average toxic rate')\n",
    "#ax.set_xlim(0.01,0.7)\n",
    "plt.show()"
   ]
  },
  {
   "cell_type": "code",
   "execution_count": 87,
   "id": "1f5dfa8b-311d-49ea-8ab0-49213607b178",
   "metadata": {},
   "outputs": [
    {
     "data": {
      "image/png": "[encoded data removed]",
      "text/plain": [
       "<Figure size 504x360 with 1 Axes>"
      ]
     },
     "metadata": {},
     "output_type": "display_data"
    }
   ],
   "source": [
    "fig, ax = plt.subplots()\n",
    "sns.histplot(chat_grouped.toxic_rate, stat = 'percent').set_title('Distribution of toxic rate')\n",
    "#ax.set_xlim(0.01,0.7)\n",
    "plt.show()"
   ]
  },
  {
   "cell_type": "code",
   "execution_count": 88,
   "id": "a8ebf63f-835f-4005-8d02-4aa366ab0bca",
   "metadata": {},
   "outputs": [
    {
     "data": {
      "image/png": "[encoded data removed]",
      "text/plain": [
       "<Figure size 504x360 with 1 Axes>"
      ]
     },
     "metadata": {},
     "output_type": "display_data"
    }
   ],
   "source": [
    "fig, ax = plt.subplots()\n",
    "sns.histplot(reg_df.no_text, stat = 'percent').set_title('The number of players who did not text anything')\n",
    "#ax.set_xlim(0.01,0.7)\n",
    "plt.show()"
   ]
  },
  {
   "cell_type": "markdown",
   "id": "087fff14-be3f-4a2b-b6ba-bf80df644d15",
   "metadata": {},
   "source": [
    "# Add Control Variables\n",
    "### Gold, XP (experience), LH (last-hits)\n",
    "Get those values for the first half of the match. Want to exclude reverse causality issue."
   ]
  },
  {
   "cell_type": "code",
   "execution_count": 89,
   "id": "e04daafb-07a4-47a4-ab5b-75d5ea3d7997",
   "metadata": {},
   "outputs": [],
   "source": [
    "# create a halftime column (in minutes)\n",
    "match['halftime'] = match['duration']/2\n",
    "match['halftime'] = (match['halftime']//60)*60\n",
    "\n",
    "# add player characteristics (gold, xp, lh) from the half time\n",
    "match = pd.merge(match, player_time , how='left', left_on=['match_id', 'halftime'], right_on = ['match_id','times'])\n",
    "      \n",
    "# calculate total gold, xp and lh for each team\n",
    "match['gold_rad'] =  match.gold_t_0+match.gold_t_1+match.gold_t_2+match.gold_t_3+match.gold_t_4\n",
    "match['xp_rad'] = match.xp_t_0+match.xp_t_1+match.xp_t_2+match.xp_t_3+match.xp_t_4\n",
    "match['lh_rad'] = match.lh_t_0+match.lh_t_1+match.lh_t_2+match.lh_t_3+match.lh_t_4\n",
    "\n",
    "match['gold_dir'] = match.gold_t_128+match.gold_t_129+match.gold_t_130+match.gold_t_131+match.gold_t_132\n",
    "match['xp_dir'] = match.xp_t_128+match.xp_t_129+match.xp_t_130+match.xp_t_131+match.xp_t_132\n",
    "match['lh_dir'] = match.lh_t_128+match.lh_t_129+match.lh_t_130+match.lh_t_131+match.lh_t_132\n",
    "\n",
    "# calculate ratios\n",
    "match['gold_ratio_rad'] = match['gold_rad']/match['gold_dir']\n",
    "match['xp_ratio_rad'] = match['xp_rad']/match['xp_dir']\n",
    "match['lh_ratio_rad'] = match['lh_rad']/match['lh_dir']\n",
    "\n",
    "match['gold_ratio_dir'] = 1/match['gold_ratio_rad']\n",
    "match['xp_ratio_dir'] = 1/match['xp_ratio_rad']\n",
    "match['lh_ratio_dir'] = 1/match['lh_ratio_rad']\n",
    "      \n",
    "# make three ratios as separate controls df.\n",
    "controls_rad = match[['match_id', 'gold_ratio_rad', 'xp_ratio_rad', 'lh_ratio_rad']]\n",
    "controls_rad['team'] = 'radiant'\n",
    "controls_rad.columns = ['match_id', 'gold_ratio', 'xp_ratio', 'lh_ratio', 'team']\n",
    "\n",
    "controls_dir = match[['match_id','gold_ratio_dir', 'xp_ratio_dir', 'lh_ratio_dir']]\n",
    "controls_dir['team'] = 'dire'\n",
    "controls_dir.columns = ['match_id', 'gold_ratio', 'xp_ratio', 'lh_ratio', 'team']\n",
    "\n",
    "frames = [controls_rad, controls_dir]\n",
    "controls = pd.concat(frames)"
   ]
  },
  {
   "cell_type": "markdown",
   "id": "dcc976c1-f538-4310-b598-d34edb5f2c33",
   "metadata": {},
   "source": [
    "### Deaths, kills"
   ]
  },
  {
   "cell_type": "code",
   "execution_count": 90,
   "id": "f3ce0c0b-304f-4def-95b5-527d4524991d",
   "metadata": {},
   "outputs": [],
   "source": [
    "# create index of players\n",
    "lst = range(0,len(tf))\n",
    "tf['ind'] = lst\n",
    "\n",
    "lst = np.repeat(lst,10)\n",
    "tf_player['ind'] = lst\n",
    "\n",
    "# add a column which shows the team\n",
    "tf_player['radiant'] = np.where(tf_player['player_slot']<= 5, 1, 0)\n",
    "\n",
    "# create a halftime column (in minutes)\n",
    "match['halftime'] = match['duration']/2\n",
    "\n",
    "# analyze only teamfights from the first half\n",
    "tf = pd.merge(tf, match[['match_id','halftime']], how='left', left_on=['match_id'], right_on = ['match_id'])\n",
    "tf['first_half'] = np.where(tf['end']< tf['halftime'], 1, 0)\n",
    "tf = tf[tf['first_half']==1]\n",
    "\n",
    "tf_player = pd.merge(tf_player, tf[['ind','first_half']], how='left', left_on=['ind'], right_on = ['ind'])\n",
    "tf_player = tf_player[tf_player['first_half']==1]\n",
    "\n",
    "# calculate kill_death_diff\n",
    "kd = pd.DataFrame(tf_player.groupby(['match_id', 'radiant'])['deaths'].sum()).reset_index()\n",
    "kd['totals'] = np.repeat( kd.groupby(['match_id'])['deaths'].sum().reset_index().deaths, 2).reset_index().deaths\n",
    "kd['kills'] = kd['totals'] - kd['deaths']\n",
    "kd['team'] = np.where(kd['radiant']==1,'radiant', 'dire')\n",
    "kd['kill_death_diff'] = kd['kills']-kd['deaths']\n",
    "#kd.drop(['radiant', 'totals', 'deaths', 'kills'], axis=1, inplace = True)\n",
    "\n",
    "# add it to controls df\n",
    "controls = pd.merge(controls, kd[['match_id', 'team', 'kill_death_diff']], how='left', left_on=['match_id','team'], right_on = ['match_id','team'])"
   ]
  },
  {
   "cell_type": "markdown",
   "id": "4f74a338-61da-42ce-9c27-e8c7fe3516fd",
   "metadata": {},
   "source": [
    "### Player ratings"
   ]
  },
  {
   "cell_type": "code",
   "execution_count": 91,
   "id": "2e6901e3-0468-47d2-b2a6-119e535acd6b",
   "metadata": {},
   "outputs": [],
   "source": [
    "player = pd.merge(player[['match_id','account_id', 'player_slot']], player_ratings, how='left', left_on = ['account_id'], right_on = ['account_id'])\n",
    "\n",
    "# create missing column\n",
    "player['missing'] = np.where(player['total_wins']>=0, 0,1)\n",
    "\n",
    "# convert missing to account_id ==0\n",
    "player = player.fillna(player.mode().iloc[0])\n",
    "player['account_id'] = np.where(player['missing']==1, 0,player['account_id'])\n",
    "player['missing'] = np.where(player['account_id']==0, 1,0)\n",
    "\n",
    "# create pivots for skill_mean, skill_std and abs\n",
    "skill_mean = player.pivot(index='match_id', columns='player_slot', values='trueskill_mu')\n",
    "skill_std = player.pivot(index='match_id', columns='player_slot', values='trueskill_sigma')\n",
    "missing = player.pivot(index='match_id', columns='player_slot', values='missing')\n",
    "\n",
    "skill_mean.reset_index(inplace=True)\n",
    "skill_std.reset_index(inplace=True)\n",
    "missing.reset_index(inplace=True)\n",
    "\n",
    "# calculate rating variables for each team separately\n",
    "skill_mean_rad = skill_mean[['match_id',0,1,2,3,4]]\n",
    "skill_mean_dir = skill_mean[['match_id',128,129,130,131,132]]\n",
    "\n",
    "skill_std_rad = skill_std[['match_id',0,1,2,3,4]]\n",
    "skill_std_dir = skill_std[['match_id',128,129,130,131,132]]\n",
    "\n",
    "missing_rad = missing[['match_id',0,1,2,3,4]]\n",
    "missing_dir = missing[['match_id',128,129,130,131,132]]\n",
    "\n",
    "skill_mean_rad['skill_mean'] = (skill_mean_rad[0]+skill_mean_rad[1]+skill_mean_rad[2]+skill_mean_rad[3]+skill_mean_rad[4])/5\n",
    "skill_mean_rad['team'] = 'radiant'\n",
    "\n",
    "skill_mean_dir['skill_mean'] = (skill_mean_dir[128]+skill_mean_dir[129]+skill_mean_dir[130]+skill_mean_dir[131]+skill_mean_dir[132])/5\n",
    "skill_mean_dir['team'] = 'dire'\n",
    "\n",
    "skill_std_rad['skill_std'] = (skill_std_rad[0]+skill_std_rad[1]+skill_std_rad[2]+skill_std_rad[3]+skill_std_rad[4])/5\n",
    "skill_std_rad['team'] = 'radiant'\n",
    "\n",
    "skill_std_dir['skill_std'] = (skill_std_dir[128]+skill_std_dir[129]+skill_std_dir[130]+skill_std_dir[131]+skill_std_dir[132])/5\n",
    "skill_std_dir['team'] = 'dire'\n",
    "\n",
    "missing_rad['no_rank'] = (missing_rad[0]+missing_rad[1]+missing_rad[2]+missing_rad[3]+missing_rad[4])\n",
    "missing_rad['team'] = 'radiant'\n",
    "\n",
    "missing_dir['no_rank'] = (missing_dir[128]+missing_dir[129]+missing_dir[130]+missing_dir[131]+missing_dir[132])\n",
    "missing_dir['team'] = 'dire'\n",
    "\n",
    "frames = [skill_mean_rad[['match_id', 'skill_mean', 'team']], skill_mean_dir[['match_id', 'skill_mean', 'team']]]\n",
    "skill_mean = pd.concat(frames)\n",
    "\n",
    "frames = [skill_std_rad[['match_id', 'skill_std', 'team']], skill_std_dir[['match_id', 'skill_std', 'team']]]\n",
    "skill_std = pd.concat(frames)\n",
    "\n",
    "frames = [missing_rad[['match_id', 'no_rank', 'team']], missing_dir[['match_id', 'no_rank', 'team']]]\n",
    "missing = pd.concat(frames)\n",
    "\n",
    "# add them to controls df\n",
    "controls = pd.merge(controls, skill_mean, how='left', left_on=['match_id','team'], right_on = ['match_id','team'])\n",
    "controls = pd.merge(controls, skill_std, how='left', left_on=['match_id','team'], right_on = ['match_id','team'])\n",
    "controls = pd.merge(controls, missing, how='left', left_on=['match_id','team'], right_on = ['match_id','team'])"
   ]
  },
  {
   "cell_type": "markdown",
   "id": "305b8c35-6def-4c43-8b85-6b2494dc46cb",
   "metadata": {},
   "source": [
    "## Merge everything into one df"
   ]
  },
  {
   "cell_type": "code",
   "execution_count": 92,
   "id": "fc833597-ef92-474c-ba22-4a9a6ae0ee0e",
   "metadata": {},
   "outputs": [],
   "source": [
    "reg_df = pd.merge(reg_df, controls, how='left', left_on=['match_id','team'], right_on = ['match_id','team'])"
   ]
  },
  {
   "cell_type": "code",
   "execution_count": 93,
   "id": "19ac7c12-34c1-45fd-bb6f-00d92439e4b8",
   "metadata": {},
   "outputs": [],
   "source": [
    "# delete two matches with NAs\n",
    "reg_df= reg_df[reg_df['match_id']!=13914]\n",
    "reg_df= reg_df[reg_df['match_id']!=31438]"
   ]
  },
  {
   "cell_type": "code",
   "execution_count": 94,
   "id": "9169e9ef-b440-4f8a-86d2-afbba1d80497",
   "metadata": {},
   "outputs": [],
   "source": [
    "# replace NAN with 0. Those are the games that had no teamfights in the first half of the game.\n",
    "reg_df['kill_death_diff'] = reg_df['kill_death_diff'].fillna(0)"
   ]
  },
  {
   "cell_type": "raw",
   "id": "3fa579c6-95b2-4eb1-9fcd-e7d00f1f9a66",
   "metadata": {},
   "source": [
    "reg_df['mean_gold'] = reg_df.gold_t_0 + reg_df.gold_t_1 + reg_df.gold_t_2 + reg_df.gold_t_3 + reg_df.gold_t_4\n",
    "reg_df['mean_xp'] = reg_df.xp_t_0 + reg_df.xp_t_1 + reg_df.xp_t_2 + reg_df.xp_t_3 + reg_df.xp_t_4\n",
    "reg_df['mean_lh'] = reg_df.lh_t_0 + reg_df.lh_t_1 + reg_df.lh_t_2 + reg_df.lh_t_3 + reg_df.lh_t_4"
   ]
  },
  {
   "cell_type": "code",
   "execution_count": 95,
   "id": "7f142acc-fdd1-4192-b536-15c058af5446",
   "metadata": {},
   "outputs": [
    {
     "name": "stdout",
     "output_type": "stream",
     "text": [
      "                            OLS Regression Results                            \n",
      "==============================================================================\n",
      "Dep. Variable:                    win   R-squared:                       0.000\n",
      "Model:                            OLS   Adj. R-squared:                  0.000\n",
      "Method:                 Least Squares   F-statistic:                     17.63\n",
      "Date:                Thu, 16 Jun 2022   Prob (F-statistic):           2.21e-08\n",
      "Time:                        17:43:41   Log-Likelihood:                -52283.\n",
      "No. Observations:               72060   AIC:                         1.046e+05\n",
      "Df Residuals:                   72057   BIC:                         1.046e+05\n",
      "Df Model:                           2                                         \n",
      "Covariance Type:                  HC3                                         \n",
      "==============================================================================\n",
      "                 coef    std err          z      P>|z|      [0.025      0.975]\n",
      "------------------------------------------------------------------------------\n",
      "Intercept      0.5374      0.007     81.742      0.000       0.525       0.550\n",
      "toxic_rate    -0.0973      0.034     -2.853      0.004      -0.164      -0.030\n",
      "no_text       -0.0100      0.002     -5.853      0.000      -0.013      -0.007\n",
      "==============================================================================\n",
      "Omnibus:                   245970.557   Durbin-Watson:                   1.999\n",
      "Prob(Omnibus):                  0.000   Jarque-Bera (JB):            11986.562\n",
      "Skew:                           0.000   Prob(JB):                         0.00\n",
      "Kurtosis:                       1.002   Cond. No.                         69.9\n",
      "==============================================================================\n",
      "\n",
      "Notes:\n",
      "[1] Standard Errors are heteroscedasticity robust (HC3)\n"
     ]
    }
   ],
   "source": [
    "mod = smf.ols('win ~ toxic_rate + no_text', data=reg_df)\n",
    "res = mod.fit(cov_type='HC3')\n",
    "print(res.summary())"
   ]
  },
  {
   "cell_type": "markdown",
   "id": "8db0e3ea-0e39-4a67-ac59-f6bb18d0fa78",
   "metadata": {},
   "source": [
    "## Regression Tables"
   ]
  },
  {
   "cell_type": "code",
   "execution_count": 96,
   "id": "f447af65-3699-48bd-abe9-327d15804ac5",
   "metadata": {},
   "outputs": [],
   "source": [
    "import pandas as pd\n",
    "from sklearn import datasets\n",
    "import statsmodels.api as sm\n",
    "from stargazer.stargazer import Stargazer\n",
    "from IPython.core.display import HTML\n",
    "\n",
    "est = sm.OLS(endog=reg_df['win'], exog=sm.add_constant(reg_df[['toxic_rate', 'no_text']])).fit(cov_type='HC3')\n",
    "est2 = sm.OLS(endog=reg_df['win'], exog=sm.add_constant(reg_df[['toxic_rate', 'no_text', 'gold_ratio', 'lh_ratio', 'kill_death_diff']])).fit()\n",
    "est3 = sm.OLS(endog=reg_df['win'], exog=sm.add_constant(reg_df[['toxic_rate', 'no_text', 'gold_ratio', 'lh_ratio', 'kill_death_diff', 'skill_mean', 'skill_std', 'no_rank']])).fit()\n",
    "\n",
    "stargazer = Stargazer([est, est2, est3])"
   ]
  },
  {
   "cell_type": "code",
   "execution_count": 97,
   "id": "5213d590-0330-477c-8bff-b251906a7cfa",
   "metadata": {},
   "outputs": [
    {
     "data": {
      "text/html": [
       "<table style=\"text-align:center\"><tr><td colspan=\"4\" style=\"border-bottom: 1px solid black\"></td></tr><tr><td style=\"text-align:left\"></td><td colspan=\"3\"><em>Dependent variable:win</em></td></tr><tr><td style=\"text-align:left\"></td><tr><td style=\"text-align:left\"></td><td>(1)</td><td>(2)</td><td>(3)</td></tr><tr><td colspan=\"4\" style=\"border-bottom: 1px solid black\"></td></tr><tr><td style=\"text-align:left\">toxic rate</td><td>-0.097<sup>***</sup></td><td>-0.043<sup></sup></td><td>-0.050<sup>*</sup></td></tr><tr><td style=\"text-align:left\"></td><td>(0.034)</td><td>(0.030)</td><td>(0.030)</td></tr><tr><td style=\"text-align:left\">\\# no text</td><td>-0.010<sup>***</sup></td><td>-0.004<sup>***</sup></td><td>-0.004<sup>***</sup></td></tr><tr><td style=\"text-align:left\"></td><td>(0.002)</td><td>(0.001)</td><td>(0.001)</td></tr><tr><td style=\"text-align:left\">gold ratio</td><td></td><td>1.251<sup>***</sup></td><td>1.249<sup>***</sup></td></tr><tr><td style=\"text-align:left\"></td><td></td><td>(0.013)</td><td>(0.013)</td></tr><tr><td style=\"text-align:left\">last-hits ratio</td><td></td><td>-0.026<sup>***</sup></td><td>-0.026<sup>***</sup></td></tr><tr><td style=\"text-align:left\"></td><td></td><td>(0.007)</td><td>(0.007)</td></tr><tr><td style=\"text-align:left\">kill-death diff</td><td></td><td>0.002<sup>***</sup></td><td>0.002<sup>***</sup></td></tr><tr><td style=\"text-align:left\"></td><td></td><td>(0.000)</td><td>(0.000)</td></tr><tr><td style=\"text-align:left\">skill mean</td><td></td><td></td><td>0.001<sup></sup></td></tr><tr><td style=\"text-align:left\"></td><td></td><td></td><td>(0.001)</td></tr><tr><td style=\"text-align:left\">skill st.d.</td><td></td><td></td><td>-0.003<sup>*</sup></td></tr><tr><td style=\"text-align:left\"></td><td></td><td></td><td>(0.002)</td></tr><tr><td style=\"text-align:left\">\\# no rank</td><td></td><td></td><td>-0.003<sup></sup></td></tr><tr><td style=\"text-align:left\"></td><td></td><td></td><td>(0.002)</td></tr><td colspan=\"4\" style=\"border-bottom: 1px solid black\"></td></tr><tr><td style=\"text-align: left\">Observations</td><td>72,060</td><td>72,060</td><td>72,060</td></tr><tr><td style=\"text-align: left\">R<sup>2</sup></td><td>0.000</td><td>0.241</td><td>0.241</td></tr><tr><td style=\"text-align: left\">Adjusted R<sup>2</sup></td><td>0.000</td><td>0.241</td><td>0.241</td></tr><tr><td style=\"text-align: left\">Residual Std. Error</td><td>0.500</td><td>0.436</td><td>0.435</td></tr><tr><td style=\"text-align: left\">F Statistic</td><td>17.634<sup>***</sup></td><td>4578.771<sup>***</sup></td><td>2867.078<sup>***</sup></td></tr><tr><td colspan=\"4\" style=\"border-bottom: 1px solid black\"></td></tr><tr><td style=\"text-align: left\">Note:</td>\n",
       " <td colspan=\"3\" style=\"text-align: right\">\n",
       "  <sup>*</sup>p&lt;0.1;\n",
       "  <sup>**</sup>p&lt;0.05;\n",
       "  <sup>***</sup>p&lt;0.01\n",
       " </td></tr></table>"
      ],
      "text/plain": [
       "<stargazer.stargazer.Stargazer at 0x1e7c2b5aca0>"
      ]
     },
     "execution_count": 97,
     "metadata": {},
     "output_type": "execute_result"
    }
   ],
   "source": [
    "stargazer.covariate_order(['toxic_rate', 'no_text', 'gold_ratio', 'lh_ratio', 'kill_death_diff', 'skill_mean', 'skill_std', 'no_rank'])\n",
    "stargazer.rename_covariates({'toxic_rate': 'toxic rate', 'no_text': '\\# no text', 'gold_ratio': 'gold ratio', 'lh_ratio': 'last-hits ratio', 'kill_death_diff': 'kill-death diff',\n",
    "                            'skill_mean': 'skill mean','skill_std': 'skill st.d.', 'no_rank': '\\# no rank'})\n",
    "stargazer.show_degrees_of_freedom(False)\n",
    "stargazer"
   ]
  },
  {
   "cell_type": "code",
   "execution_count": 98,
   "id": "839fdf7d-17ab-4435-af15-325f936c99ac",
   "metadata": {},
   "outputs": [
    {
     "data": {
      "text/html": [
       "<table style=\"text-align:center\"><tr><td colspan=\"4\" style=\"border-bottom: 1px solid black\"></td></tr><tr><td style=\"text-align:left\"></td><td colspan=\"3\"><em>Dependent variable:win</em></td></tr><tr><td style=\"text-align:left\"></td><tr><td style=\"text-align:left\"></td><td>(1)</td><td>(2)</td><td>(3)</td></tr><tr><td colspan=\"4\" style=\"border-bottom: 1px solid black\"></td></tr><tr><td style=\"text-align:left\">\\# toxic</td><td>-0.020<sup>***</sup></td><td>-0.009<sup>***</sup></td><td>-0.010<sup>***</sup></td></tr><tr><td style=\"text-align:left\"></td><td>(0.004)</td><td>(0.003)</td><td>(0.003)</td></tr><tr><td style=\"text-align:left\">\\# no text</td><td>-0.013<sup>***</sup></td><td>-0.006<sup>***</sup></td><td>-0.005<sup>***</sup></td></tr><tr><td style=\"text-align:left\"></td><td>(0.002)</td><td>(0.002)</td><td>(0.002)</td></tr><tr><td style=\"text-align:left\">gold ratio</td><td></td><td>1.250<sup>***</sup></td><td>1.248<sup>***</sup></td></tr><tr><td style=\"text-align:left\"></td><td></td><td>(0.013)</td><td>(0.013)</td></tr><tr><td style=\"text-align:left\">last-hits ratio</td><td></td><td>-0.026<sup>***</sup></td><td>-0.026<sup>***</sup></td></tr><tr><td style=\"text-align:left\"></td><td></td><td>(0.007)</td><td>(0.007)</td></tr><tr><td style=\"text-align:left\">kill-death diff</td><td></td><td>0.002<sup>***</sup></td><td>0.002<sup>***</sup></td></tr><tr><td style=\"text-align:left\"></td><td></td><td>(0.000)</td><td>(0.000)</td></tr><tr><td style=\"text-align:left\">skill mean</td><td></td><td></td><td>0.001<sup></sup></td></tr><tr><td style=\"text-align:left\"></td><td></td><td></td><td>(0.001)</td></tr><tr><td style=\"text-align:left\">skill st.d.</td><td></td><td></td><td>-0.004<sup>*</sup></td></tr><tr><td style=\"text-align:left\"></td><td></td><td></td><td>(0.002)</td></tr><tr><td style=\"text-align:left\">\\# no rank</td><td></td><td></td><td>-0.003<sup></sup></td></tr><tr><td style=\"text-align:left\"></td><td></td><td></td><td>(0.002)</td></tr><td colspan=\"4\" style=\"border-bottom: 1px solid black\"></td></tr><tr><td style=\"text-align: left\">Observations</td><td>72,060</td><td>72,060</td><td>72,060</td></tr><tr><td style=\"text-align: left\">R<sup>2</sup></td><td>0.001</td><td>0.241</td><td>0.242</td></tr><tr><td style=\"text-align: left\">Adjusted R<sup>2</sup></td><td>0.001</td><td>0.241</td><td>0.241</td></tr><tr><td style=\"text-align: left\">Residual Std. Error</td><td>0.500</td><td>0.436</td><td>0.435</td></tr><tr><td style=\"text-align: left\">F Statistic</td><td>28.073<sup>***</sup></td><td>4580.232<sup>***</sup></td><td>2868.138<sup>***</sup></td></tr><tr><td colspan=\"4\" style=\"border-bottom: 1px solid black\"></td></tr><tr><td style=\"text-align: left\">Note:</td>\n",
       " <td colspan=\"3\" style=\"text-align: right\">\n",
       "  <sup>*</sup>p&lt;0.1;\n",
       "  <sup>**</sup>p&lt;0.05;\n",
       "  <sup>***</sup>p&lt;0.01\n",
       " </td></tr></table>"
      ],
      "text/plain": [
       "<stargazer.stargazer.Stargazer at 0x1e7c2b4cb50>"
      ]
     },
     "execution_count": 98,
     "metadata": {},
     "output_type": "execute_result"
    }
   ],
   "source": [
    "# n_toxic with reg_df\n",
    "\n",
    "est = sm.OLS(endog=reg_df['win'], exog=sm.add_constant(reg_df[['n_toxic', 'no_text']])).fit(cov_type='HC3')\n",
    "est2 = sm.OLS(endog=reg_df['win'], exog=sm.add_constant(reg_df[['n_toxic', 'no_text', 'gold_ratio', 'lh_ratio', 'kill_death_diff']])).fit()\n",
    "est3 = sm.OLS(endog=reg_df['win'], exog=sm.add_constant(reg_df[['n_toxic', 'no_text', 'gold_ratio', 'lh_ratio', 'kill_death_diff', 'skill_mean', 'skill_std', 'no_rank']])).fit()\n",
    "\n",
    "stargazer = Stargazer([est, est2, est3])\n",
    "stargazer.covariate_order(['n_toxic', 'no_text', 'gold_ratio', 'lh_ratio', 'kill_death_diff', 'skill_mean', 'skill_std', 'no_rank'])\n",
    "stargazer.rename_covariates({'n_toxic': '\\# toxic', 'no_text': '\\# no text', 'gold_ratio': 'gold ratio', 'lh_ratio': 'last-hits ratio', 'kill_death_diff': 'kill-death diff',\n",
    "                            'skill_mean': 'skill mean','skill_std': 'skill st.d.', 'no_rank': '\\# no rank'})\n",
    "stargazer.show_degrees_of_freedom(False)\n",
    "stargazer"
   ]
  },
  {
   "cell_type": "code",
   "execution_count": 99,
   "id": "ee5c4aaa-0413-4a85-a3c8-2529e0f3d4fe",
   "metadata": {},
   "outputs": [
    {
     "data": {
      "text/html": [
       "\n",
       "                <audio  controls=\"controls\" autoplay=\"autoplay\">\n",
       "                    <source src=\"https://sound.peal.io/ps/audios/000/000/537/original/woo_vu_luvub_dub_dub.wav\" type=\"audio/wav\" />\n",
       "                    Your browser does not support the audio element.\n",
       "                </audio>\n",
       "              "
      ],
      "text/plain": [
       "<IPython.lib.display.Audio object>"
      ]
     },
     "metadata": {},
     "output_type": "display_data"
    }
   ],
   "source": [
    "allDone()"
   ]
  }
 ],
 "metadata": {
  "kernelspec": {
   "display_name": "Python 3 (ipykernel)",
   "language": "python",
   "name": "python3"
  },
  "language_info": {
   "codemirror_mode": {
    "name": "ipython",
    "version": 3
   },
   "file_extension": ".py",
   "mimetype": "text/x-python",
   "name": "python",
   "nbconvert_exporter": "python",
   "pygments_lexer": "ipython3",
   "version": "3.8.3"
  }
 },
 "nbformat": 4,
 "nbformat_minor": 5
}
